{
 "cells": [
  {
   "cell_type": "code",
   "execution_count": 1,
   "metadata": {},
   "outputs": [
    {
     "name": "stdout",
     "output_type": "stream",
     "text": [
      "['https://www.test.de/general/suche/', 'https://www.test.de/hilfe/Suchtipps-5121457-0/', 'https://map.schnelltestportal.de/', 'https://www.covisa.de/', 'https://testbuchen.de/', 'https://www.berlin.de/corona/testzentren/', 'https://www.bundesregierung.de/breg-de/suche/corona-tests-faq-1872540', 'https://www.arbeitsagentur.de/m/newplan/', 'https://www.testen-in-nrw.de/', 'https://de.wikipedia.org/wiki/Test']\n"
     ]
    }
   ],
   "source": [
    "from article_scraper import GoogleScraper\n",
    "\n",
    "print(GoogleScraper.find_urls_for_query('test suche'))"
   ]
  },
  {
   "cell_type": "code",
   "execution_count": null,
   "metadata": {},
   "outputs": [],
   "source": []
  }
 ],
 "metadata": {
  "interpreter": {
   "hash": "aee8b7b246df8f9039afb4144a1f6fd8d2ca17a180786b69acc140d282b71a49"
  },
  "kernelspec": {
   "display_name": "Python 3.9.9 64-bit",
   "language": "python",
   "name": "python3"
  },
  "language_info": {
   "codemirror_mode": {
    "name": "ipython",
    "version": 3
   },
   "file_extension": ".py",
   "mimetype": "text/x-python",
   "name": "python",
   "nbconvert_exporter": "python",
   "pygments_lexer": "ipython3",
   "version": "3.9.10"
  },
  "orig_nbformat": 4
 },
 "nbformat": 4,
 "nbformat_minor": 2
}
