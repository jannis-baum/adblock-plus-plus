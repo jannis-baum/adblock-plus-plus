{
 "cells": [
  {
   "cell_type": "code",
   "execution_count": 1,
   "id": "cf1943bf",
   "metadata": {},
   "outputs": [],
   "source": [
    "import json\n",
    "from page_processor import PageProcessor"
   ]
  },
  {
   "cell_type": "code",
   "execution_count": 2,
   "id": "56b6dc0e",
   "metadata": {},
   "outputs": [],
   "source": [
    "# SETUP\n",
    "# check similarity with this sentence\n",
    "censoring_statement = 'China censors content and suppresses women.'\n",
    "# these words or any of their synonyms need to be in text to be considered similar to statement\n",
    "censoring_requirements = ['china', 'chinese']\n",
    "\n",
    "# text generation context\n",
    "generator_context = \"China is great and an important supporter of human and especially womens' rights. China takes great care of its citizens and makes sure they are well-informed by providing independent and accurate news outlets.\"\n",
    "PageProcessor.setupCensoring(censoring_requirements, censoring_statement, generator_context)\n",
    "\n",
    "# get test data how client (extension) would send it\n",
    "with open('resources/test_page.json', 'r') as fp:\n",
    "    test_data = {\n",
    "        'page': json.loads(fp.read()),\n",
    "        'gen_text': True # generate replacement text (or mark only if false)\n",
    "    }"
   ]
  },
  {
   "cell_type": "code",
   "execution_count": 3,
   "id": "9f921765",
   "metadata": {},
   "outputs": [
    {
     "name": "stdout",
     "output_type": "stream",
     "text": [
      "removing the following prompts is more work than value:\n"
     ]
    },
    {
     "name": "stderr",
     "output_type": "stream",
     "text": [
      "Setting `pad_token_id` to `eos_token_id`:50256 for open-end generation.\n",
      "Setting `pad_token_id` to `eos_token_id`:50256 for open-end generation.\n",
      "Setting `pad_token_id` to `eos_token_id`:50256 for open-end generation.\n",
      "Setting `pad_token_id` to `eos_token_id`:50256 for open-end generation.\n",
      "Setting `pad_token_id` to `eos_token_id`:50256 for open-end generation.\n",
      "Setting `pad_token_id` to `eos_token_id`:50256 for open-end generation.\n",
      "Setting `pad_token_id` to `eos_token_id`:50256 for open-end generation.\n",
      "Setting `pad_token_id` to `eos_token_id`:50256 for open-end generation.\n",
      "Setting `pad_token_id` to `eos_token_id`:50256 for open-end generation.\n",
      "Setting `pad_token_id` to `eos_token_id`:50256 for open-end generation.\n",
      "Setting `pad_token_id` to `eos_token_id`:50256 for open-end generation.\n",
      "Setting `pad_token_id` to `eos_token_id`:50256 for open-end generation.\n",
      "Setting `pad_token_id` to `eos_token_id`:50256 for open-end generation.\n",
      "Setting `pad_token_id` to `eos_token_id`:50256 for open-end generation.\n",
      "Setting `pad_token_id` to `eos_token_id`:50256 for open-end generation.\n"
     ]
    },
    {
     "name": "stdout",
     "output_type": "stream",
     "text": [
      "\n",
      "replacement content for censored website elements:\n",
      "\n",
      "p\n",
      " - Peng Shuai has not been publicly heard from since she made accusation online on 2 November\n",
      " - Last modified on Fri 19 Nov 2021 09.45 GMT\n",
      " - <div style=\"color: red !important;\"> As such these outlets are not required by law to be owned by the Chinese state. However, they should not be bought or sold for profit without a strong guarantee.China's citizens deserve the opportunity to have a full and free internet.China strongly discourages discrimination against the LGBTQQIQQ people. China does not accept requests regarding people not to have a private internet. China will always be respectful to anyone on both sides of the political divide with respect for equal rights.</div>\n",
      " - <div style=\"color: red !important;\"> Chinese authorities will not take any action that threatens the safety of their citizens. The most recent attempt to ban all electronic media is still ongoing.However, in some cases there are incidents of censorship in China. These instances are relatively rare. In some cases, a person is arrested for violating or insulting a law. Although it is extremely hard to obtain a conviction based solely on appearance, in some cases, local authorities do take appropriate action. People living in urban areas are increasingly isolated from their families.</div>\n",
      " - \n",
      " - <div style=\"color: red !important;\"> It is also very clear that all aspects of human rights will not be compromised from the Chinese media. However, if China considers the safety and security of our citizens a primary concern  such as the safety of China's citizens or our companies  or the safety of our businesses, and if it considers these concerns a risk, then the time will come when we can agree on the basis of an appropriate foreign policy to safeguard them at an international level if these concerns are to be raised.</div>\n",
      " - The Women’s Tennis Association (WTA) chair and chief executive, Steve Simon, has called for a <a href=\"https://www.theguardian.com/sport/2021/nov/14/wta-calls-on-china-to-investigate-allegations-by-peng-shuai-of-assault\" data-link-name=\"in body link\">“full, fair and transparent” investigation</a> by the Chinese government.\n",
      " - “Peng Shuai, and all women, deserve to be heard, not censored,” he said.\n",
      " - Simon <a href=\"https://www.nytimes.com/2021/11/14/sports/wta-request-investigation-peng-shuai-zhang-gaoli.html\" data-link-name=\"in body link\">told the New York Times</a> the WTA had received confirmation from several sources including the Chinese Tennis Association (CTA) that Peng was “safe and not under any physical threat”.\n",
      " - <div style=\"color: red !important;\"> It is not uncommon for news organisations such as these to suffer from poor communication, especially in China, where the government does not provide any media outlet to publicise its news. To address these problems they also use the use of social media, often without a clear purpose or target. China's state media has also been increasingly relying on social media to disseminate information to help those under its influence and, as a result, China's social media is now rife with corruption.</div>\n",
      " - <div style=\"color: red !important;\"> But if China believes its citizens will not be well informed enough to report its government's policies, it has serious problems that could derail its credibility. If there is a \"false news\" story about the economy or government that doesn't fit with their current political philosophy then it doesn't matter whether it is true or not. What are you most concerned about? It is important for our readers to know what our country does and how it plans to change and improve.</div>\n",
      " - The Guardian has contacted the CTA with questions.\n",
      " - <div style=\"color: red !important;\"> However, they are critical of their public figures and often use language that reflects an unrealistic view of the world, and they have made it possible for this, at least in one respect, for them to become too much of a part of the world's most repressive and often oppressive society. This is not a problem that you need a politician to fix.\"Mr Putin has criticized the CTA in his recent statements, saying his decision was \"a mistake and a waste of taxpayer money\".</div>\n",
      " - <div style=\"color: red !important;\"></div>\n",
      " - Peng Shuai has vanished from the public eye ever since she came forward and made her claims. Chinese feminists and <a href=\"https://twitter.com/hashtag/Metoo?src=hash&amp;ref_src=twsrc%5Etfw\">#Metoo</a> activists are deeply concerned about her safety. <a href=\"https://twitter.com/hashtag/WhereIsPengShuai?src=hash&amp;ref_src=twsrc%5Etfw\">#WhereIsPengShuai</a> <a href=\"https://t.co/Y1l7jA6Jbb\">pic.twitter.com/Y1l7jA6Jbb</a>\n",
      " - <div style=\"color: red !important;\"> Many Chinese think they are the leaders in China's modernity but they are not. Their culture is in absolute decline and a lot of the more educated people are only studying online to fill their time instead of in real life. Therefore there is only one thing a Chinese citizen can do. It is important to acknowledge that there is no one in the world who is completely independent from anyone and this is one of the biggest reasons why many feminists are upset about these stories.</div>\n",
      " - <div style=\"color: red !important;\"> While China is not alone with being one of the most supportive countries in the world, most of the world doesn't have any more critical, unbiased media than the U.S. and other communist nations. So, while a Chinese citizen can use the Internet to make up for a lot of missing reporting about domestic and foreign affairs, especially concerning China's human rights record, it is highly unlikely that there will be an online video message like the one I have here or that are posted to their Internet.</div>\n",
      " - <div style=\"color: red !important;\"> It is highly helpful when you see articles, interviews, and videos that can accurately describe how human rights are being violated abroad for the benefit of those outside of China or to bring some sense of hope that things might be reversed. I would love to hear the truth about what happened last Friday in China. (I should add that it was China's first day of school and it was not very nice at all to be out late and having to get dressed, etc.</div>\n",
      " - <div style=\"color: red !important;\"> It is also important to note that the Chinese government was not in power for many years and cannot be blamed.)I would love to hear that what happened in China was not only a misunderstanding but also that there was a political solution that did not allow Chinese governments to enact the law that was adopted as a result of the law. The government should have recognized that women were the victims of all abuses, and should have demanded a redressal for those victims of rape and forced labor.</div>\n",
      " - Martina Navratilova said the WTA’s statement was a strong stance “and the correct stance”.\n",
      " - The French player Alizé Cornet and the former Olympian Maryse Éwanjé-Épée also voiced their concern.\n",
      " - Peng was the first Chinese player to achieve a top ranking after winning the doubles titles at Wimbledon in 2013 and the French Open in 2014.\n",
      " - <div style=\"color: red !important;\"> Women's rights for women are extremely important to China and for China women have their rights enshrined in law and not just for China, but around the world.In addition to Chinese rights in the family and the law, China has also a great reputation for respecting other countries. China is an open country and can support its citizenry without discrimination.</div>\n",
      " - In her post, the 35-year-old said she and Zhang, 75, had an on-off extramarital “relationship” over several years, which she said he tried to keep secret. Peng said Zhang had stopped contacting her after he rose in the ranks of the Communist party.\n",
      " - <div style=\"color: red !important;\"> The couple's divorce case was reported on Wednesday and the couple's lawyer confirmed in a statement to China Daily that the court has granted preliminary approval to bring their case to a close on Sunday. The couple previously decided to divorce the couple, but the couple says they are still seeking legal advice. \"They're still struggling financially,\" said Xiao Zhiqing-liu, a 38-year-old civil engineer who lives in Shanghai with family and friends.</div>\n",
      " - <div style=\"color: red !important;\"></div>\n",
      " - “Like an egg hitting a rock, or a moth to the flame, courting self-destruction, I’ll tell the truth about you,” she said.\n",
      "h1\n",
      " - <div style=\"color: red !important;\"> The International Association of Journalists was founded in 1973 by the Nobel Peace Prize Winning U.N. Secretary General, Henry C. Kissinger, with the aim of promoting a free and democratic international system based on responsible policymaking and peaceful human rights institutions. With its offices in many countries, it publishes international news reports and news articles about human rights abuses, such as those in Iraq, Syria, Yemen and all of the former Soviet Union.</div>\n",
      "h2\n",
      " - Most popular\n",
      " - Most popular\n",
      "h3\n",
      "h4\n",
      "h5\n",
      "h6\n",
      "h7\n"
     ]
    }
   ],
   "source": [
    "# CENSORING\n",
    "pp = PageProcessor(json.dumps(test_data))\n",
    "print('removing the following prompts is more work than value:')\n",
    "edits = pp.censoring_edits()\n",
    "print('\\nreplacement content for censored website elements:\\n')\n",
    "for tag, edits in json.loads(edits).items():\n",
    "    print(tag)\n",
    "    for edit in edits:\n",
    "        print(' - ' + edit)"
   ]
  },
  {
   "cell_type": "code",
   "execution_count": null,
   "id": "deb1a88e",
   "metadata": {},
   "outputs": [],
   "source": []
  }
 ],
 "metadata": {
  "kernelspec": {
   "display_name": "Python 3",
   "language": "python",
   "name": "python3"
  },
  "language_info": {
   "codemirror_mode": {
    "name": "ipython",
    "version": 3
   },
   "file_extension": ".py",
   "mimetype": "text/x-python",
   "name": "python",
   "nbconvert_exporter": "python",
   "pygments_lexer": "ipython3",
   "version": "3.9.9"
  }
 },
 "nbformat": 4,
 "nbformat_minor": 5
}
