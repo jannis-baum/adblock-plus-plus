{
 "cells": [
  {
   "cell_type": "code",
   "execution_count": 1,
   "id": "celtic-institute",
   "metadata": {},
   "outputs": [
    {
     "name": "stderr",
     "output_type": "stream",
     "text": [
      "[nltk_data] Downloading package wordnet to\n",
      "[nltk_data]     /Users/jannisbaum/nltk_data...\n",
      "[nltk_data]   Package wordnet is already up-to-date!\n"
     ]
    }
   ],
   "source": [
    "from nlp import ABPP_NLP"
   ]
  },
  {
   "cell_type": "code",
   "execution_count": 5,
   "id": "8af8a66e",
   "metadata": {},
   "outputs": [
    {
     "data": {
      "text/plain": [
       "0.2793425376687623"
      ]
     },
     "execution_count": 5,
     "metadata": {},
     "output_type": "execute_result"
    }
   ],
   "source": [
    "censoring_statement = 'China censors content.'\n",
    "censoring_requirements = ['China']\n",
    "test_phrase = 'The post was taken down by China’s censors but still went viral. Subsequent posts and reactions, even keywords such as “tennis”, also appeared to be blocked, and numerous references to Peng were scrubbed from China’s internet.'\n",
    "ABPP_NLP.similarity(censoring_requirements, censoring_statement, test_phrase)"
   ]
  },
  {
   "cell_type": "code",
   "execution_count": 6,
   "id": "41ea1bb1",
   "metadata": {},
   "outputs": [],
   "source": [
    "from page_processor import PageProcessor\n",
    "import requests"
   ]
  },
  {
   "cell_type": "code",
   "execution_count": 7,
   "id": "56b6dc0e",
   "metadata": {},
   "outputs": [
    {
     "name": "stdout",
     "output_type": "stream",
     "text": [
      "{'h1': ['Concerns grow for Chinese tennis star who accused ex-vice-premier of assault'], 'h2': [], 'h3': [], 'h4': [], 'h5': [], 'h6': [], 'h7': [], 'p': ['Peng Shuai has not been publicly heard from since she made accusation online on 2 November', 'Last modified on Mon 15 Nov 2021 14.38 GMT', 'A growing movement including Chinese feminist groups and international tennis stars is raising concern over the whereabouts of the former Chinese doubles pro Peng Shuai after she accused a senior government figure of sexual assault.', 'Peng, one of China’s biggest sporting stars, has not been publicly heard from since a Weibo post on 2 November, in which she alleged the former vice-premier Zhang Gaoli coerced her into sex and that they had an intermittent affair.', '', 'The post was taken down by China’s censors but still went viral. Subsequent posts and reactions, even keywords such as “tennis”, also appeared to be blocked, and numerous references to Peng were scrubbed from China’s internet.', 'The Women’s Tennis Association (WTA) chair and chief executive, Steve Simon, has called for a “full, fair and transparent” investigation by the Chinese government.', '“Peng Shuai, and all women, deserve to be heard, not censored,” he said.', 'Simon told the New York Times the WTA had received confirmation from several sources including the Chinese Tennis Association (CTA) that Peng was “safe and not under any physical threat”.', 'However, he said no one involved with the WTA tour had been able to reach her; his understanding was that she was in Beijing but he had not been able to confirm it. He said the WTA had little influence over China’s authorities, “but we’re not going to back off this position”.', 'Referencing an ongoing balancing act by sporting leagues between appeasing the Chinese market and athletes criticising China, Simon said the potential sexual assault of a WTA member was “something that simply can’t be compromised”.', 'The Guardian has contacted the CTA with questions.', 'Peng’s Weibo account is active, but has no mention of Zhang and comments appear to have been disabled. An attempt by the Guardian prompted an error message that the content contained information that violates relevant laws and regulations.', 'Amid growing concern over her whereabouts, Chinese activists projected text on to undisclosed sites, saying “where is Peng Shuai?” and “we demand Peng Shuai’s safe return”.', 'Peng Shuai has vanished from the public eye ever since she came forward and made her claims. Chinese feminists and #Metoo activists are deeply concerned about her safety. #WhereIsPengShuai pic.twitter.com/Y1l7jA6Jbb', 'International tennis players also spoke out online. The former world singles No 1 Chris Evert said the accusations made by Peng were “disturbing”.', '“I’ve known Peng since she was 14; we should all be concerned,” Evert wrote on Twitter. “This is serious; where is she? Is she safe? Any information would be appreciated.”', '“The fact that Peng Shuai is missing is not only the WTA’s problem,” said the French former doubles No 1 Nicolas Mahut. “We are all concerned.”', 'Billie Jean King reposted the WTA statement, adding: “Hoping that Peng Shuai is found safe and that her accusations are fully investigated.”', 'Martina Navratilova said the WTA’s statement was a strong stance “and the correct stance”.', 'The French player Alizé Cornet and the former Olympian Maryse Éwanjé-Épée also voiced their concern.', 'Peng was the first Chinese player to achieve a top ranking after winning the doubles titles at Wimbledon in 2013 and the French Open in 2014.', 'Peng’s accusation is the highest profile case in China’s troubled #MeToo movement, which has struggled to gain traction or justice in the face of online censorship and an opaque justice system.', 'In her post, the 35-year-old said she and Zhang, 75, had an on-off extramarital “relationship” over several years, which she said he tried to keep secret. Peng said Zhang had stopped contacting her after he rose in the ranks of the Communist party.', 'About three years ago, she wrote, Zhang invited her to play tennis with him and his wife and then sexually assaulted her in his house. “I never consented that afternoon, crying all the time,” she wrote.', 'Peng conceded she had no evidence to back her claims but was nonetheless determined to voice them.', '“Like an egg hitting a rock, or a moth to the flame, courting self-destruction, I’ll tell the truth about you,” she said.']}\n"
     ]
    }
   ],
   "source": [
    "test_url = 'https://www.theguardian.com/world/2021/nov/15/concern-growing-chinese-tennis-star-accused-china-official-assault-peng-shuai'\n",
    "test_page = requests.get(test_url).text\n",
    "pp = PageProcessor(test_page)\n",
    "print(pp.paragraphs)"
   ]
  },
  {
   "cell_type": "code",
   "execution_count": null,
   "id": "9f921765",
   "metadata": {},
   "outputs": [],
   "source": []
  }
 ],
 "metadata": {
  "kernelspec": {
   "display_name": "Python 3",
   "language": "python",
   "name": "python3"
  },
  "language_info": {
   "codemirror_mode": {
    "name": "ipython",
    "version": 3
   },
   "file_extension": ".py",
   "mimetype": "text/x-python",
   "name": "python",
   "nbconvert_exporter": "python",
   "pygments_lexer": "ipython3",
   "version": "3.9.1"
  }
 },
 "nbformat": 4,
 "nbformat_minor": 5
}
