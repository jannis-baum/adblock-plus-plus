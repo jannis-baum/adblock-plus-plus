{
 "cells": [
  {
   "cell_type": "code",
   "execution_count": 1,
   "metadata": {},
   "outputs": [],
   "source": [
    "from article_scraper import GoogleScraper"
   ]
  },
  {
   "cell_type": "code",
   "execution_count": 2,
   "metadata": {},
   "outputs": [
    {
     "name": "stderr",
     "output_type": "stream",
     "text": [
      "[nltk_data] Downloading package wordnet to\n",
      "[nltk_data]     /Users/jannisbaum/nltk_data...\n",
      "[nltk_data]   Package wordnet is already up-to-date!\n",
      "[nltk_data] Downloading package vader_lexicon to\n",
      "[nltk_data]     /Users/jannisbaum/nltk_data...\n",
      "[nltk_data]   Package vader_lexicon is already up-to-date!\n",
      "[nltk_data] Downloading package punkt to\n",
      "[nltk_data]     /Users/jannisbaum/nltk_data...\n",
      "[nltk_data]   Package punkt is already up-to-date!\n",
      "[nltk_data] Downloading package stopwords to\n",
      "[nltk_data]     /Users/jannisbaum/nltk_data...\n",
      "[nltk_data]   Package stopwords is already up-to-date!\n"
     ]
    }
   ],
   "source": [
    "import requests\n",
    "from page_processor import PageProcessor\n",
    "import sys; sys.path.append('../nlp')\n",
    "from nlp import NLProcessor"
   ]
  },
  {
   "cell_type": "code",
   "execution_count": 3,
   "metadata": {},
   "outputs": [
    {
     "name": "stdout",
     "output_type": "stream",
     "text": [
      "--- https://www.theguardian.com/news/2021/jul/15/china-video-game-censorship-tencent-netease-blizzard ---\n",
      "full text:\n",
      "China’s video game market is the world’s biggest. International developers want in on it – but its rules on what is acceptable are growing increasingly harsh. Is it worth the compromise? Last modified on Mon 9 Aug 2021 12.00 BST In the years after it was founded in 1999, the Swedish video game company Paradox Interactive quietly built a reputation for developing some of the best, and most hardcore, strategy games on the market. “Deep, endless, complex, unyielding games,” is how Shams Jorjani, th\n",
      "preprocessed:\n",
      "China’s video game market is the world’s biggest. International developers want in on it – but its rules on what is acceptable are growing increasingly harsh. Is it worth the compromise? Last modified on Mon 9 Aug 2021 12.00 BST In the years after it was founded in 1999, the Swedish video game company Paradox Interactive quietly built a reputation for developing some of the best, and most hardcore, strategy games on the market. “Deep, endless, complex, unyielding games,” is how Shams Jorjani, th\n",
      "summary:\n",
      "when i spoke video game industry workers inside tencent netease – none willing provide names – framed china’s strict censorship rules one element global market governments restrict culture.in december 2020, major european game publisher, gog, pulled release game mocking president xi, even though chinese investors planned sell game china.so many children learning history playing assassin’s creed franchise – game set different time period, medieval middle east medici-era italy – game’s developer, ubisoft, implemented educational mode players given guided tours games set ancient egypt greece.the popular island-life simulation game allows users decorate game environment designs, famed activist joshua wong shared screenshot twitter in-game island banner reading “free hong kong, revolution now”.i don’t know similar time travel, i imagine similar logic going there.” in recent years, industry insider, works help western developers china, found job increasingly difficult.all make incredibly hard amend games satisfy censors – one part game removed, rest collapse.would ubisoft – 5% owned tencent established presence china – release similar version set china (or tibet taiwan) risk upsetting beijing blocking access market games?last modified mon 9 aug 2021 12.00 bst in years founded 1999, swedish video game company paradox interactive quietly built reputation developing best, hardcore, strategy games market.asked global game developers broadly self-censor games appease china, netease source combative, said: “so soundbite want, i say, definitely happen.“they really see moral authorities – authority truth, also authority morality.” in 2011, designer riot learned unwritten rule video game show characters emerging ground, rising dead.video game consoles started arrive china late 80s – legally imported japan, others smuggled avoid high customs taxes – arcades popped around country throughout 90s.these tech giants, chinese equivalents facebook google, regularly part-acquired foreign video game firms helped access lucrative chinese gaming market.\n",
      "--- https://www.theguardian.com/technology/2019/sep/25/revealed-how-tiktok-censors-videos-that-do-not-please-beijing ---\n",
      "full text:\n",
      "Leak spells out how social media app advances China’s foreign policy aims Last modified on Wed 25 Sep 2019 15.36 BST TikTok, the popular Chinese-owned social network, instructs its moderators to censor videos that mention Tiananmen Square, Tibetan independence, or the banned religious group Falun Gong, according to leaked documents detailing the site’s moderation guidelines. The documents, revealed by the Guardian for the first time, lay out how ByteDance, the Beijing-headquartered technology co\n",
      "preprocessed:\n",
      "Leak spells out how social media app advances China’s foreign policy aims Last modified on Wed 25 Sep 2019 15.36 BST TikTok, the popular Chinese-owned social network, instructs its moderators to censor videos that mention Tiananmen Square, Tibetan independence, or the banned religious group Falun Gong, according to leaked documents detailing the site’s moderation guidelines. The documents, revealed by the Guardian for the first time, lay out how ByteDance, the Beijing-headquartered technology co\n",
      "summary:\n",
      "leak spells social media app advances china’s foreign policy aims last modified wed 25 sep 2019 15.36 bst tiktok, popular chinese-owned social network, instructs moderators censor videos mention tiananmen square, tibetan independence, banned religious group falun gong, according leaked documents detailing site’s moderation guidelines.users gravitate tiktok provides app experience fosters creativity, committed supporting across teams, product, policies, way openly communicate community.” the service launched 2017, shortly merged american company, musical.ly, bytedance purchased reported $1bn (£800m) order boost growth app.\n",
      "--- https://www.theguardian.com/news/2018/jun/29/the-great-firewall-of-china-xi-jinpings-internet-shutdown ---\n",
      "full text:\n",
      "Before Xi Jinping, the internet was becoming a more vibrant political space for Chinese citizens. But today the country has the largest and most sophisticated online censorship operation in the world Last modified on Wed 7 Jul 2021 11.33 BST In December 2015, thousands of tech entrepreneurs and analysts, along with a few international heads of state, gathered in Wuzhen, in southern China, for the country’s second World Internet Conference. At the opening ceremony the Chinese president, Xi Jinpin\n",
      "preprocessed:\n",
      "Before Xi Jinping, the internet was becoming a more vibrant political space for Chinese citizens. But today the country has the largest and most sophisticated online censorship operation in the world Last modified on Wed 7 Jul 2021 11.33 BST In December 2015, thousands of tech entrepreneurs and analysts, along with a few international heads of state, gathered in Wuzhen, in southern China, for the country’s second World Internet Conference. At the opening ceremony the Chinese president, Xi Jinpin\n",
      "summary:\n",
      "as new yorker writer evan osnos asked discussing transformation chinese internet xi’s tenure: “how many countries 2015 internet connection world worse year ago?” scientific innovation, particularly prized chinese leadership, may also risk.adapted the third revolution: xi jinping new chinese state elizabeth c economy, published oxford university press available guardianbookshop.com follow long read twitter @gdnlongread, sign long read weekly email here.perhaps significant development, however, 2004 guideline internet censorship called chinese universities recruit internet commentators could guide online discussions politically acceptable directions report comments follow chinese law.the total number people employed monitor opinion censor content internet – role euphemistically known “internet public opinion analyst” – estimated 2 million 2013.rogier creemers, china expert oxford university, noted “as internet became publicly accessible information communication platform, debate whether fall government supervision – control would implemented practice.” by 1997, beijing enacted first laws criminalising online postings believed designed hurt national security interests state.throughout early 2000s, chinese leadership supplemented fang’s technology set new regulations designed ensure anyone access china’s internet played chinese rules.\n",
      "--- https://www.theguardian.com/world/2020/mar/05/chinese-social-media-censoring-officially-sanctioned-facts-on-coronavirus ---\n",
      "full text:\n",
      "Wide range of speech about virus and Covid-19 references is being tightly controlled, report finds Last modified on Wed 1 Jul 2020 18.19 BST Chinese social media censors blocked neutral information about the coronavirus outbreak when they targeted references to the outbreak on WeChat and other platforms, a report has found. Hundreds of keywords and keyword combinations, including “Wuhan seafood market” and “Sars variation” were censored in late December, as doctors sought to warn about the new v\n",
      "preprocessed:\n",
      "Wide range of speech about virus and Covid-19 references is being tightly controlled, report finds Last modified on Wed 1 Jul 2020 18.19 BST Chinese social media censors blocked neutral information about the coronavirus outbreak when they targeted references to the outbreak on WeChat and other platforms, a report has found. Hundreds of keywords and keyword combinations, including “Wuhan seafood market” and “Sars variation” were censored in late December, as doctors sought to warn about the new v\n",
      "summary:\n",
      "wide range speech virus covid-19 references tightly controlled, report finds last modified wed 1 jul 2020 18.19 bst chinese social media censors blocked neutral information coronavirus outbreak targeted references outbreak wechat platforms, report found.the report said 31 december yy added 45 keywords combinations referencing unknown virus blacklist, including: unknown wuhan pneumonia, wuhan seafood market, sars variation, sars outbreak wuhan, wuhan health committee.\n",
      "--- https://www.theguardian.com/news/audio/2021/aug/09/no-cults-no-politics-no-ghouls-how-china-censors-the-video-game-world-podcast ---\n",
      "full text:\n",
      "China’s video game market is the world’s biggest. International developers want in on it – but its rules on what is acceptable are growing increasingly harsh. Is it worth the compromise? By Oliver Holmes \n",
      "\n",
      "\n",
      "                How to listen to podcasts: everything you need to know\n",
      "            \n",
      " Written by \n",
      "Oliver Holmes, read by \n",
      "Jordan Erica Webber and produced by \n",
      "Esther Opoku-Gyeni \n",
      "\n",
      "        \n",
      "            Mon 9 Aug 2021 12.00 BST\n",
      "\n",
      " The Guardian is editorially independent.\n",
      "                    And w\n",
      "preprocessed:\n",
      "China’s video game market is the world’s biggest. International developers want in on it – but its rules on what is acceptable are growing increasingly harsh. Is it worth the compromise? By Oliver Holmes How to listen to podcasts: everything you need to know Written by Oliver Holmes, read by Jordan Erica Webber and produced by Esther Opoku-Gyeni Mon 9 Aug 2021 12.00 BST The Guardian is editorially independent. And we want to keep our journalism open and accessible to all. But we increasingly nee\n",
      "summary:\n",
      "by oliver holmes how listen podcasts: everything need know written oliver holmes, read jordan erica webber produced esther opoku-gyeni mon 9 aug 2021 12.00 bst the guardian editorially independent.international developers want – rules acceptable growing increasingly harsh.\n",
      "--- https://www.theguardian.com/world/2018/dec/31/from-rice-bunny-to-back-up-the-car-chinas-year-of-censorship ---\n",
      "full text:\n",
      "Online freedom has come under sustained assault from Beijing in 2018, with references to Xi Jinping’s new powers among the prohibited phrases China stepped up its campaign in 2018 to control what news and information its citizens can see. While censors continued heavyhanded control for any content deemed dangerous for social stability, including Peppa Pig videos and the letter “n”, regulators also deployed more sophisticated methods, going beyond Chinese social media and working harder to curate\n",
      "preprocessed:\n",
      "Online freedom has come under sustained assault from Beijing in 2018, with references to Xi Jinping’s new powers among the prohibited phrases China stepped up its campaign in 2018 to control what news and information its citizens can see. While censors continued heavyhanded control for any content deemed dangerous for social stability, including Peppa Pig videos and the letter “n”, regulators also deployed more sophisticated methods, going beyond Chinese social media and working harder to curate\n",
      "summary:\n",
      "while censors continued heavyhanded control content deemed dangerous social stability, including peppa pig videos letter “n”, regulators also deployed sophisticated methods, going beyond chinese social media working harder curate shape chinese residents consume.in addition domestic issues, chinese regulators also tried limit much us-china trade war discussed, censored certain types articles comments us vice-president mike pence’s polemical speech china, arrest senior huawei executive meng wanzhou.\n",
      "--- https://www.theguardian.com/world/2016/jun/30/china-internet-censorship-chief-steps-down ---\n",
      "full text:\n",
      "Lu Wei, who cracked down on internet freedom and made Time’s 100 most influential people list, has been replaced Last modified on Fri 1 Jul 2016 14.30 BST China’s top internet regulator, who oversaw a severe tightening of internet freedoms during his tenure, has stepped down, reports said on Wednesday. Lu Wei – named as one of the world’s 100 most influential people last year by Time magazine – had been in charge of supervising controls on online expression since taking over as head of the Cyber\n",
      "preprocessed:\n",
      "Lu Wei, who cracked down on internet freedom and made Time’s 100 most influential people list, has been replaced Last modified on Fri 1 Jul 2016 14.30 BST China’s top internet regulator, who oversaw a severe tightening of internet freedoms during his tenure, has stepped down, reports said on Wednesday. Lu Wei – named as one of the world’s 100 most influential people last year by Time magazine – had been in charge of supervising controls on online expression since taking over as head of the Cyber\n",
      "summary:\n",
      "“if anything i would expect see increase chinese government’s efforts monitor control internet within china well influence content internet outside china.” jon huntsman, former us ambassador china, told time april last year lu imposed tougher regulations “social-stability concerns”.lu wei, cracked internet freedom made time’s 100 influential people list, replaced last modified fri 1 jul 2016 14.30 bst china’s top internet regulator, oversaw severe tightening internet freedoms tenure, stepped down, reports said wednesday.\n",
      "--- https://www.theguardian.com/commentisfree/2018/jun/16/how-china-censors-internet-information ---\n",
      "full text:\n",
      "A new book shows how the republic’s government has adapted to the challenge of a networked age Last modified on Sun 17 Jun 2018 06.35 BST One of the axioms of the early internet was an observation made by John Gilmore, a libertarian geek who was one of the founders of the Electronic Frontier Foundation. “The internet,” said Gilmore, “interprets censorship as damage and routes around it.” To lay people this was probably unintelligible, but it spoke eloquently to geeks, to whom it meant that the a\n",
      "preprocessed:\n",
      "A new book shows how the republic’s government has adapted to the challenge of a networked age Last modified on Sun 17 Jun 2018 06.35 BST One of the axioms of the early internet was an observation made by John Gilmore, a libertarian geek who was one of the founders of the Electronic Frontier Foundation. “The internet,” said Gilmore, “interprets censorship as damage and routes around it.” To lay people this was probably unintelligible, but it spoke eloquently to geeks, to whom it meant that the a\n",
      "summary:\n",
      "the quote comes remarkable new book – censored: distraction diversion inside china’s great firewall – margaret roberts, one number dedicated scholars years studying chinese regime “managing” internet.it merely required state control main communications media – print, radio television – plus fear draconian punishment anyone daring circumvent resulting restrictions information citizens allowed see.\n",
      "--- https://www.theguardian.com/world/2021/may/28/friends-the-one-where-china-censors-its-guest-stars ---\n",
      "full text:\n",
      "Viewers say scenes featuring Lady Gaga, boyband BTS and Justin Bieber are missing from Chinese version First published on Fri 28 May 2021 14.49 BST For many Chinese millennials, the US sitcom Friends was a window to the American way of life. Teachers would use the show to help students learn English. Beijing, Guangzhou and Shanghai have Friends-themed Central Perk cafes. So when news that the original cast were to hold a reunion special nearly 20 years after the show was first introduced into Ch\n",
      "preprocessed:\n",
      "Viewers say scenes featuring Lady Gaga, boyband BTS and Justin Bieber are missing from Chinese version First published on Fri 28 May 2021 14.49 BST For many Chinese millennials, the US sitcom Friends was a window to the American way of life. Teachers would use the show to help students learn English. Beijing, Guangzhou and Shanghai have Friends-themed Central Perk cafes. So when news that the original cast were to hold a reunion special nearly 20 years after the show was first introduced into Ch\n",
      "summary:\n",
      "viewers say scenes featuring lady gaga, boyband bts justin bieber missing chinese version first published fri 28 may 2021 14.49 bst for many chinese millennials, us sitcom friends window american way life.so news original cast hold reunion special nearly 20 years show first introduced china, diehard fans excited, china’s biggest online streaming platforms bought rights broadcast show.\n",
      "--- https://www.theguardian.com/world/2018/apr/21/no-joke-have-chinas-censors-gone-too-far-with-ban-on-humour-app ---\n",
      "full text:\n",
      "End of Neihan Duanzi, which united strangers around funny memes, has driven users underground where they openly question controls over society Last modified on Sat 21 Apr 2018 02.37 BST There is a not-so-secret club in China. Members find each other in traffic by honking their horn – one long honk, followed by two short ones. Others identify each other by completing nonsensical couplets: “The son of heaven covers the tiger” – to which the correct response is “chicken stew with mushrooms”. They c\n",
      "preprocessed:\n",
      "End of Neihan Duanzi, which united strangers around funny memes, has driven users underground where they openly question controls over society Last modified on Sat 21 Apr 2018 02.37 BST There is a not-so-secret club in China. Members find each other in traffic by honking their horn – one long honk, followed by two short ones. Others identify each other by completing nonsensical couplets: “The son of heaven covers the tiger” – to which the correct response is “chicken stew with mushrooms”. They c\n",
      "summary:\n",
      "but duanzi censored, i felt certain pain heart, like someone taken child me,” one user wrote 12 april duanzi telegram group 2,000 members.in one popular duanzi video, man unbuttoned shirt long hair pulled messy pony tail comes across girlfriend walking another man, much smartly dressed.\n"
     ]
    }
   ],
   "source": [
    "urls = GoogleScraper.find_news_urls_for_query('china censors content', 'theguardian.com')\n",
    "GoogleScraper.quit()\n",
    "sums = list()\n",
    "for url in urls:\n",
    "    print(f\"--- {url} ---\")\n",
    "    page = requests.get(url).text\n",
    "    processor = PageProcessor(page)\n",
    "    full_text = processor.get_fulltext()\n",
    "    print('full text:')\n",
    "    print(full_text[:500])\n",
    "    preprocessed = NLProcessor.preprocess_article(full_text)\n",
    "    print('preprocessed:')\n",
    "    print(preprocessed[:500])\n",
    "    summary = NLProcessor.summarize(preprocessed)\n",
    "    print('summary:')\n",
    "    print(''.join(summary))"
   ]
  },
  {
   "cell_type": "code",
   "execution_count": null,
   "metadata": {},
   "outputs": [],
   "source": []
  }
 ],
 "metadata": {
  "interpreter": {
   "hash": "aee8b7b246df8f9039afb4144a1f6fd8d2ca17a180786b69acc140d282b71a49"
  },
  "kernelspec": {
   "display_name": "Python 3.9.9 64-bit",
   "language": "python",
   "name": "python3"
  },
  "language_info": {
   "codemirror_mode": {
    "name": "ipython",
    "version": 3
   },
   "file_extension": ".py",
   "mimetype": "text/x-python",
   "name": "python",
   "nbconvert_exporter": "python",
   "pygments_lexer": "ipython3",
   "version": "3.9.10"
  },
  "orig_nbformat": 4
 },
 "nbformat": 4,
 "nbformat_minor": 2
}
