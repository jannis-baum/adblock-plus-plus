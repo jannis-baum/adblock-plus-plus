{
 "cells": [
  {
   "cell_type": "code",
   "execution_count": 1,
   "id": "cf1943bf",
   "metadata": {},
   "outputs": [],
   "source": [
    "# run once in beginning\n",
    "from importlib import reload\n",
    "import requests\n",
    "import os\n",
    "import gensim.downloader as api\n",
    "nlp_word_vectors = api.load('word2vec-google-news-300')"
   ]
  },
  {
   "cell_type": "code",
   "execution_count": 2,
   "id": "b31e4250",
   "metadata": {},
   "outputs": [
    {
     "name": "stderr",
     "output_type": "stream",
     "text": [
      "[nltk_data] Downloading package wordnet to\n",
      "[nltk_data]     /Users/jannisbaum/nltk_data...\n",
      "[nltk_data]   Package wordnet is already up-to-date!\n"
     ]
    },
    {
     "data": {
      "text/plain": [
       "<gensim.models.keyedvectors.KeyedVectors at 0x121bcfe80>"
      ]
     },
     "execution_count": 2,
     "metadata": {},
     "output_type": "execute_result"
    }
   ],
   "source": [
    "# import / reload modules\n",
    "if 'nlp' in globals() and 'page_processor' in globals():\n",
    "    reload(nlp); reload(page_processor)\n",
    "else:\n",
    "    import nlp, page_processor\n",
    "from nlp import NLProcessor\n",
    "from page_processor import PageProcessor\n",
    "nlp.NLProcessor.set_word_vectors(nlp_word_vectors)\n",
    "NLProcessor._NLProcessor__get_word_vectors()"
   ]
  },
  {
   "cell_type": "code",
   "execution_count": 3,
   "id": "56b6dc0e",
   "metadata": {},
   "outputs": [],
   "source": [
    "test_url = 'https://www.theguardian.com/world/2021/nov/15/concern-growing-chinese-tennis-star-accused-china-official-assault-peng-shuai'\n",
    "# check similarity with this sentence\n",
    "censoring_statement = 'China censors content and suppresses women.'\n",
    "# these words or any of their synonyms need to be in text to be considered similar to statement\n",
    "censoring_requirements = ['china', 'chinese']\n",
    "NLProcessor.set_similarity_data(censoring_requirements, censoring_statement)\n",
    "\n",
    "test_page = requests.get(test_url).text\n",
    "pp = PageProcessor(test_page)"
   ]
  },
  {
   "cell_type": "code",
   "execution_count": 4,
   "id": "9f921765",
   "metadata": {},
   "outputs": [
    {
     "name": "stdout",
     "output_type": "stream",
     "text": [
      "[{\"tag\": \"h1\", \"edits\": [{\"index\": 0, \"innerHTML\": \"Concerns grow for Chinese tennis star who accused ex-vice-premier of assault <b>4.191340103173658</b>\"}]}, {\"tag\": \"h2\", \"edits\": []}, {\"tag\": \"h3\", \"edits\": []}, {\"tag\": \"h4\", \"edits\": []}, {\"tag\": \"h5\", \"edits\": []}, {\"tag\": \"h6\", \"edits\": []}, {\"tag\": \"h7\", \"edits\": []}, {\"tag\": \"p\", \"edits\": [{\"index\": 2, \"innerHTML\": \"A growing movement including Chinese feminist groups and international tennis stars is raising concern over the whereabouts of the former Chinese doubles pro <a data-component=\\\"auto-linked-tag\\\" data-link-name=\\\"in body link\\\" href=\\\"https://www.theguardian.com/sport/peng-shuai\\\">Peng Shuai</a> after she accused a senior government figure of sexual assault. <b>3.7450879298421165</b>\"}, {\"index\": 3, \"innerHTML\": \"Peng, one of China\\u2019s biggest sporting stars, has not been publicly heard from since a Weibo post on 2 November, <a data-link-name=\\\"in body link\\\" href=\\\"https://www.theguardian.com/world/2021/nov/03/tennis-star-peng-shuai-accuses-chinese-communist-party-official-zhang-gaoli-of-sexual-assault\\\">in which she alleged</a> the former vice-premier Zhang Gaoli coerced her into sex and that they had an intermittent affair. <b>2.823440531293313</b>\"}, {\"index\": 4, \"innerHTML\": \"The post was taken down by China\\u2019s censors but still went viral. Subsequent posts and reactions, even keywords such as \\u201ctennis\\u201d, also appeared to be blocked, and numerous references to Peng were scrubbed from China\\u2019s internet. <b>4.3807812388212835</b>\"}, {\"index\": 5, \"innerHTML\": \"The Women\\u2019s Tennis Association (WTA) chair and chief executive, Steve Simon, has called for a <a data-link-name=\\\"in body link\\\" href=\\\"https://www.theguardian.com/sport/2021/nov/14/wta-calls-on-china-to-investigate-allegations-by-peng-shuai-of-assault\\\">\\u201cfull, fair and transparent\\u201d investigation</a> by the Chinese government. <b>3.45119430270215</b>\"}, {\"index\": 7, \"innerHTML\": \"Simon <a data-link-name=\\\"in body link\\\" href=\\\"https://www.nytimes.com/2021/11/14/sports/wta-request-investigation-peng-shuai-zhang-gaoli.html\\\">told the New York Times</a> the WTA had received confirmation from several sources including the Chinese Tennis Association (CTA) that Peng was \\u201csafe and not under any physical threat\\u201d. <b>3.820048912279561</b>\"}, {\"index\": 8, \"innerHTML\": \"However, he said no one involved with the WTA tour had been able to reach her; his understanding was that she was in Beijing but he had not been able to confirm it. He said the WTA had little influence over China\\u2019s authorities, \\u201cbut we\\u2019re not going to back off this position\\u201d. <b>2.666932357279007</b>\"}, {\"index\": 9, \"innerHTML\": \"Referencing an ongoing balancing act by sporting leagues between appeasing the Chinese market and athletes criticising China, Simon said the potential sexual assault of a WTA member was \\u201csomething that simply can\\u2019t be compromised\\u201d. <b>3.284069869080982</b>\"}, {\"index\": 11, \"innerHTML\": \"Peng\\u2019s Weibo account is active, but has no mention of Zhang and comments appear to have been disabled. An attempt by the Guardian prompted an error message that the content contained information that violates relevant laws and regulations. <b>3.469648601576226</b>\"}, {\"index\": 12, \"innerHTML\": \"Amid growing concern over her whereabouts, Chinese activists projected text on to undisclosed sites, saying \\u201cwhere is Peng Shuai?\\u201d and \\u201cwe demand Peng Shuai\\u2019s safe return\\u201d. <b>3.7413576030239297</b>\"}, {\"index\": 13, \"innerHTML\": \"Peng Shuai has vanished from the public eye ever since she came forward and made her claims. Chinese feminists and <a href=\\\"https://twitter.com/hashtag/Metoo?src=hash&amp;ref_src=twsrc%5Etfw\\\">#Metoo</a> activists are deeply concerned about her safety. <a href=\\\"https://twitter.com/hashtag/WhereIsPengShuai?src=hash&amp;ref_src=twsrc%5Etfw\\\">#WhereIsPengShuai</a> <a href=\\\"https://t.co/Y1l7jA6Jbb\\\">pic.twitter.com/Y1l7jA6Jbb</a> <b>3.0113008367239815</b>\"}, {\"index\": 20, \"innerHTML\": \"Peng was the first Chinese player to achieve a top ranking after winning the doubles titles at Wimbledon in 2013 and the French Open in 2014. <b>2.481137663007967</b>\"}, {\"index\": 21, \"innerHTML\": \"Peng\\u2019s accusation is the highest profile case in <a data-link-name=\\\"in body link\\\" href=\\\"https://www.theguardian.com/world/2021/oct/07/instead-i-am-the-criminal-chinas-metoo-figure-speaks-out-after-case-fails\\\">China\\u2019s troubled #MeToo movement</a>, which has struggled to gain traction or justice in the face of online censorship and an opaque justice system. <b>3.5478071426413313</b>\"}, {\"index\": 22, \"innerHTML\": \"In her post, the 35-year-old said she and Zhang, 75, had an on-off extramarital \\u201crelationship\\u201d over several years, which she said he tried to keep secret. Peng said Zhang had stopped contacting her after he rose in the ranks of the Communist party. <b>2.7382665709555516</b>\"}]}]\n"
     ]
    }
   ],
   "source": [
    "print(pp.censored())"
   ]
  },
  {
   "cell_type": "code",
   "execution_count": null,
   "id": "88634a47",
   "metadata": {},
   "outputs": [],
   "source": []
  }
 ],
 "metadata": {
  "kernelspec": {
   "display_name": "Python 3",
   "language": "python",
   "name": "python3"
  },
  "language_info": {
   "codemirror_mode": {
    "name": "ipython",
    "version": 3
   },
   "file_extension": ".py",
   "mimetype": "text/x-python",
   "name": "python",
   "nbconvert_exporter": "python",
   "pygments_lexer": "ipython3",
   "version": "3.9.1"
  }
 },
 "nbformat": 4,
 "nbformat_minor": 5
}
