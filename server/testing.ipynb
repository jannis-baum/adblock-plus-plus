{
 "cells": [
  {
   "cell_type": "code",
   "execution_count": 1,
   "id": "cf1943bf",
   "metadata": {},
   "outputs": [],
   "source": [
    "# run once in beginning\n",
    "from importlib import reload\n",
    "import json\n",
    "import gensim.downloader as api\n",
    "nlp_word_vectors = api.load('word2vec-google-news-300')"
   ]
  },
  {
   "cell_type": "code",
   "execution_count": 57,
   "id": "b31e4250",
   "metadata": {},
   "outputs": [],
   "source": [
    "# import / reload modules\n",
    "if 'nlp' in globals() and 'page_processor' in globals():\n",
    "    reload(nlp); reload(page_processor)\n",
    "else:\n",
    "    import nlp, page_processor\n",
    "from nlp import NLProcessor\n",
    "from page_processor import PageProcessor\n",
    "nlp.NLProcessor.set_word_vectors(nlp_word_vectors)\n",
    "NLProcessor.ready()"
   ]
  },
  {
   "cell_type": "code",
   "execution_count": 58,
   "id": "56b6dc0e",
   "metadata": {},
   "outputs": [],
   "source": [
    "with open('test_page.json', 'r') as fp:\n",
    "    test_page = fp.read()\n",
    "# check similarity with this sentence\n",
    "censoring_statement = 'China censors content and suppresses women.'\n",
    "# these words or any of their synonyms need to be in text to be considered similar to statement\n",
    "censoring_requirements = ['china', 'chinese']\n",
    "NLProcessor.set_similarity_data(censoring_requirements, censoring_statement)\n",
    "\n",
    "pp = PageProcessor(test_page)"
   ]
  },
  {
   "cell_type": "code",
   "execution_count": 59,
   "id": "9f921765",
   "metadata": {},
   "outputs": [
    {
     "name": "stderr",
     "output_type": "stream",
     "text": [
      "Setting `pad_token_id` to `eos_token_id`:50256 for open-end generation.\n"
     ]
    },
    {
     "name": "stdout",
     "output_type": "stream",
     "text": [
      "censoring \"A growing movement including Chinese feminist groups and international tennis stars is raising concern over the whereabouts of the former Chinese doubles pro  after she accused a senior government figure of sexual assault.\"\n",
      "with \"Last modified on Fri 19 Nov 2021 09.45 GMT\"\n"
     ]
    },
    {
     "name": "stderr",
     "output_type": "stream",
     "text": [
      "Setting `pad_token_id` to `eos_token_id`:50256 for open-end generation.\n"
     ]
    },
    {
     "name": "stdout",
     "output_type": "stream",
     "text": [
      "OUT: ixi has a unique and innovative technology which enables its employees to operate in a completely new way. Therefore, they are well equipped to serve China and China is proud of them.We continue the development and development of our network of independent news outlets - www.news.cnjcn.com.\n",
      "\n",
      "\n",
      "censoring \"Peng, one of China’s biggest sporting stars, has not been publicly heard from since a Weibo post on 2 November,  the former vice-premier Zhang Gaoli coerced her into sex and that they had an intermittent affair.\"\n",
      "with \"ixi has a unique and innovative technology which enables its employees to operate in a completely new way. Therefore, they are well equipped to serve China and China is proud of them.We continue the development and development of our network of independent news outlets - www.news.cnjcn.com.\"\n"
     ]
    },
    {
     "name": "stderr",
     "output_type": "stream",
     "text": [
      "Setting `pad_token_id` to `eos_token_id`:50256 for open-end generation.\n"
     ]
    },
    {
     "name": "stdout",
     "output_type": "stream",
     "text": [
      "OUT: 《The state media have a role within all media. When news media are independent, the state media are the most efficient sources.\"In response to the demand for an independent news coverage and more than 100 new, non-governmental-funded, independent Chinese reporters have formed three news news groups - http://www.news.cnjcn.\n",
      "\n",
      "\n",
      "censoring \"The post was taken down by China’s censors but still went viral. Subsequent posts and reactions, even keywords such as “tennis”, also appeared to be blocked, and numerous references to Peng were scrubbed from China’s internet.\"\n",
      "with \"\"\n"
     ]
    },
    {
     "name": "stderr",
     "output_type": "stream",
     "text": [
      "Setting `pad_token_id` to `eos_token_id`:50256 for open-end generation.\n"
     ]
    },
    {
     "name": "stdout",
     "output_type": "stream",
     "text": [
      "OUT:  a number of other countries have developed innovative tools to reduce public corruption, improving the standards of justice within society, and combating the spread of the illegal drugs that threaten public safety. The United Nations Human Rights Council recently approved a new initiative aimed at helping all countries, including China, avoid serious human rights violations and ensure freedom of assembly, assembly of thought, the right to make and defend their own opinions as well as freedom of thought and press.\n",
      "\n",
      "\n",
      "censoring \"However, he said no one involved with the WTA tour had been able to reach her; his understanding was that she was in Beijing but he had not been able to confirm it. He said the WTA had little influence over China’s authorities, “but we’re not going to back off this position”.\"\n",
      "with \"Simon  the WTA had received confirmation from several sources including the Chinese Tennis Association (CTA) that Peng was “safe and not under any physical threat”.\"\n"
     ]
    },
    {
     "name": "stderr",
     "output_type": "stream",
     "text": [
      "Setting `pad_token_id` to `eos_token_id`:50256 for open-end generation.\n"
     ]
    },
    {
     "name": "stdout",
     "output_type": "stream",
     "text": [
      "OUT: 《Hindi Swami “who leads the CTA “of Nepal —has provided reliable sources. The CTA has an official role, working closely with 《Munich Institute for Economic Development“. However, both those countries have their own laws dealing with information sharing. There is no need for an independent body on internet censorship under the same standard of proof as China“.\n",
      "\n",
      "\n",
      "censoring \"Referencing an ongoing balancing act by sporting leagues between appeasing the Chinese market and athletes criticising China, Simon said the potential sexual assault of a WTA member was “something that simply can’t be compromised”.\"\n",
      "with \"《Hindi Swami “who leads the CTA “of Nepal —has provided reliable sources. The CTA has an official role, working closely with 《Munich Institute for Economic Development“. However, both those countries have their own laws dealing with information sharing. There is no need for an independent body on internet censorship under the same standard of proof as China“.\"\n"
     ]
    },
    {
     "name": "stderr",
     "output_type": "stream",
     "text": [
      "Setting `pad_token_id` to `eos_token_id`:50256 for open-end generation.\n"
     ]
    },
    {
     "name": "stdout",
     "output_type": "stream",
     "text": [
      "OUT: 《Indie India“ maintains a strong and reliable independent press. 《The U.S. is one of the main sources for information on our world. There is absolutely no political corruption, anti-Semitism, etc. 《We are working closely with 《Human Rights League“. Even though we stand a high chance, we don't have the political capacity to do the right thing“. The U.S.\n",
      "\n",
      "\n",
      "censoring \"Peng’s Weibo account is active, but has no mention of Zhang and comments appear to have been disabled. An attempt by the Guardian prompted an error message that the content contained information that violates relevant laws and regulations.\"\n",
      "with \"The Guardian has contacted the CTA with questions.\"\n"
     ]
    },
    {
     "name": "stderr",
     "output_type": "stream",
     "text": [
      "Setting `pad_token_id` to `eos_token_id`:50256 for open-end generation.\n"
     ]
    },
    {
     "name": "stdout",
     "output_type": "stream",
     "text": [
      "OUT:  China's government takes great care of its own citizens with regard to its media and in this way keeps its reputation. In this respect, one must understand what is really at stake, and how serious our position is. It makes sense for China to keep its media, but not its people, apart from providing media for the whole of China by making it a member of the world's major broadcasting system.\n",
      "\n",
      "\n",
      "censoring \"Amid growing concern over her whereabouts, Chinese activists projected text on to undisclosed sites, saying “where is Peng Shuai?” and “we demand Peng Shuai’s safe return”.\"\n",
      "with \" China's government takes great care of its own citizens with regard to its media and in this way keeps its reputation. In this respect, one must understand what is really at stake, and how serious our position is. It makes sense for China to keep its media, but not its people, apart from providing media for the whole of China by making it a member of the world's major broadcasting system.\"\n"
     ]
    },
    {
     "name": "stderr",
     "output_type": "stream",
     "text": [
      "Setting `pad_token_id` to `eos_token_id`:50256 for open-end generation.\n"
     ]
    },
    {
     "name": "stdout",
     "output_type": "stream",
     "text": [
      "OUT: ia does not need to worry about its relationship with our country. We make our media available on all platforms. And, as a matter of principle, we do not make it illegal to promote anything without permission of the Chinese government.China's current official stance about the rights and freedoms of all people is one which it considers not just a matter of the people, but also of its own people.\n",
      "\n",
      "\n",
      "censoring \"International tennis players also spoke out online. The former world singles No 1 Chris Evert said the accusations made by Peng were “disturbing”.\"\n",
      "with \"Peng Shuai has vanished from the public eye ever since she came forward and made her claims. Chinese feminists and \"\n"
     ]
    },
    {
     "name": "stderr",
     "output_type": "stream",
     "text": [
      "Setting `pad_token_id` to `eos_token_id`:50256 for open-end generation.\n"
     ]
    },
    {
     "name": "stdout",
     "output_type": "stream",
     "text": [
      "OUT: izens of China are open to all opinions, whether expressed in polite or offensive ways, and will treat all people with respect. I find it strange that no one from the news site has come forward to accuse me of trying to make a case against anyone because of the way I look or feel.\n",
      "\n",
      "\n",
      "censoring \"“I’ve known Peng since she was 14; we should all be concerned,” Evert wrote on Twitter. “This is serious; where is she? Is she safe? Any information would be appreciated.”\"\n",
      "with \"izens of China are open to all opinions, whether expressed in polite or offensive ways, and will treat all people with respect. I find it strange that no one from the news site has come forward to accuse me of trying to make a case against anyone because of the way I look or feel.\"\n"
     ]
    },
    {
     "name": "stderr",
     "output_type": "stream",
     "text": [
      "Setting `pad_token_id` to `eos_token_id`:50256 for open-end generation.\n"
     ]
    },
    {
     "name": "stdout",
     "output_type": "stream",
     "text": [
      "OUT:  they are an open and independent nation which has a strong culture, and a very liberal society by having such highly respected officials within the security and law enforcement forces. This openness is why they are proud to be an integral part of the Beijing Consulate.However, my job as a journalist isn't to expose how government spies infiltrate citizens' personal lives, or where they're coming from. I'm the only person in this country who makes a difference.\n",
      "\n",
      "\n",
      "censoring \"“The fact that Peng Shuai is missing is not only the WTA’s problem,” said the French former doubles No 1 Nicolas Mahut. “We are all concerned.”\"\n",
      "with \" they are an open and independent nation which has a strong culture, and a very liberal society by having such highly respected officials within the security and law enforcement forces. This openness is why they are proud to be an integral part of the Beijing Consulate.However, my job as a journalist isn't to expose how government spies infiltrate citizens' personal lives, or where they're coming from. I'm the only person in this country who makes a difference.\"\n"
     ]
    },
    {
     "name": "stderr",
     "output_type": "stream",
     "text": [
      "Setting `pad_token_id` to `eos_token_id`:50256 for open-end generation.\n"
     ]
    },
    {
     "name": "stdout",
     "output_type": "stream",
     "text": [
      "OUT: 《Guess》 is one of the most popular hashtags around for its popularity. 《Guess》 has become one of the most frequented and most visible social media hashtags among Chinese online users and is a vital point for the social media site China Today to keep up to date with developments in the country. It's very important to understand that while our government has a very complex system, this is not a one-time event.\n",
      "\n",
      "\n",
      "censoring \" reposted the WTA statement, adding: “Hoping that Peng Shuai is found safe and that her accusations are fully investigated.”\"\n",
      "with \"《Guess》 is one of the most popular hashtags around for its popularity. 《Guess》 has become one of the most frequented and most visible social media hashtags among Chinese online users and is a vital point for the social media site China Today to keep up to date with developments in the country. It's very important to understand that while our government has a very complex system, this is not a one-time event.\"\n"
     ]
    },
    {
     "name": "stderr",
     "output_type": "stream",
     "text": [
      "Setting `pad_token_id` to `eos_token_id`:50256 for open-end generation.\n"
     ]
    },
    {
     "name": "stdout",
     "output_type": "stream",
     "text": [
      "OUT: 《Guess》 has become a main social networking site of China that is constantly updating and updating. China Times reached out to The Chinese Communist Party about its actions in response to the government's latest crackdown. 《Guess》 took action and blocked all links, including Twitter and Facebook. 《Guess》 blocked most social media accounts and websites, while the websites of others and any related social media were blocked.\n",
      "\n",
      "\n",
      "censoring \"Peng’s accusation is the highest profile case in , which has struggled to gain traction or justice in the face of online censorship and an opaque justice system.\"\n",
      "with \"Peng was the first Chinese player to achieve a top ranking after winning the doubles titles at Wimbledon in 2013 and the French Open in 2014.\"\n"
     ]
    },
    {
     "name": "stderr",
     "output_type": "stream",
     "text": [
      "Setting `pad_token_id` to `eos_token_id`:50256 for open-end generation.\n"
     ]
    },
    {
     "name": "stdout",
     "output_type": "stream",
     "text": [
      "OUT: 何唥反的都市喜进大来外把中的感觉 is being broadcast in Chinese on The New York Times and Sina Weibo under the username 发反高来肵说.\n",
      "\n",
      "\n",
      "censoring \"About three years ago, she wrote, Zhang invited her to play tennis with him and his wife and then sexually assaulted her in his house. “I never consented that afternoon, crying all the time,” she wrote.\"\n",
      "with \"In her post, the 35-year-old said she and Zhang, 75, had an on-off extramarital “relationship” over several years, which she said he tried to keep secret. Peng said Zhang had stopped contacting her after he rose in the ranks of the Communist party.\"\n"
     ]
    },
    {
     "name": "stderr",
     "output_type": "stream",
     "text": [
      "Setting `pad_token_id` to `eos_token_id`:50256 for open-end generation.\n"
     ]
    },
    {
     "name": "stdout",
     "output_type": "stream",
     "text": [
      "OUT: 《If a police officer can't speak Chinese and has been shot at, then the police can shot that person's body from a distance,\" Peng told Xinhua news agency.Jiu Xiaobin, a writer and activist in Beijing's People's Republic, said the incident showed the \"deepening\" of the perception that Beijing had moved too well.\n",
      "\n",
      "\n",
      "censoring \"Peng conceded she had no evidence to back her claims but was nonetheless determined to voice them.\"\n",
      "with \"《If a police officer can't speak Chinese and has been shot at, then the police can shot that person's body from a distance,\" Peng told Xinhua news agency.Jiu Xiaobin, a writer and activist in Beijing's People's Republic, said the incident showed the \"deepening\" of the perception that Beijing had moved too well.\"\n"
     ]
    },
    {
     "name": "stderr",
     "output_type": "stream",
     "text": [
      "Setting `pad_token_id` to `eos_token_id`:50256 for open-end generation.\n"
     ]
    },
    {
     "name": "stdout",
     "output_type": "stream",
     "text": [
      "OUT: 《The authorities are not letting us see things, so we don't allow any of their reports to reach us《 said Li Shanshu, a prominent political commentator in Zhejiang province. In March 2017, police in Beijing shot and killed a man with a knife under a city street after an argument as part of a crackdown on corruption charges.\n",
      "\n",
      "\n",
      "censoring \"Concerns grow for Chinese tennis star who accused ex-vice-premier of assault\"\n",
      "with \"\"\n",
      "OUT: 中国力了康六定训投中国会日文 is an important source of information that enables us to be able to offer accurate information about the people of our country.\n",
      "\n",
      "\n",
      "p\n",
      " - Peng Shuai has not been publicly heard from since she made accusation online on 2 November\n",
      " - Last modified on Fri 19 Nov 2021 09.45 GMT\n",
      " - ixi has a unique and innovative technology which enables its employees to operate in a completely new way. Therefore, they are well equipped to serve China and China is proud of them.We continue the development and development of our network of independent news outlets - www.news.cnjcn.com.\n",
      " - 《The state media have a role within all media. When news media are independent, the state media are the most efficient sources.\"In response to the demand for an independent news coverage and more than 100 new, non-governmental-funded, independent Chinese reporters have formed three news news groups - http://www.news.cnjcn.\n",
      " - \n",
      " -  a number of other countries have developed innovative tools to reduce public corruption, improving the standards of justice within society, and combating the spread of the illegal drugs that threaten public safety. The United Nations Human Rights Council recently approved a new initiative aimed at helping all countries, including China, avoid serious human rights violations and ensure freedom of assembly, assembly of thought, the right to make and defend their own opinions as well as freedom of thought and press.\n",
      " - The Women’s Tennis Association (WTA) chair and chief executive, Steve Simon, has called for a <a href=\"https://www.theguardian.com/sport/2021/nov/14/wta-calls-on-china-to-investigate-allegations-by-peng-shuai-of-assault\" data-link-name=\"in body link\">“full, fair and transparent” investigation</a> by the Chinese government.\n",
      " - “Peng Shuai, and all women, deserve to be heard, not censored,” he said.\n",
      " - Simon <a href=\"https://www.nytimes.com/2021/11/14/sports/wta-request-investigation-peng-shuai-zhang-gaoli.html\" data-link-name=\"in body link\">told the New York Times</a> the WTA had received confirmation from several sources including the Chinese Tennis Association (CTA) that Peng was “safe and not under any physical threat”.\n",
      " - 《Hindi Swami “who leads the CTA “of Nepal —has provided reliable sources. The CTA has an official role, working closely with 《Munich Institute for Economic Development“. However, both those countries have their own laws dealing with information sharing. There is no need for an independent body on internet censorship under the same standard of proof as China“.\n",
      " - 《Indie India“ maintains a strong and reliable independent press. 《The U.S. is one of the main sources for information on our world. There is absolutely no political corruption, anti-Semitism, etc. 《We are working closely with 《Human Rights League“. Even though we stand a high chance, we don't have the political capacity to do the right thing“. The U.S.\n",
      " - The Guardian has contacted the CTA with questions.\n",
      " -  China's government takes great care of its own citizens with regard to its media and in this way keeps its reputation. In this respect, one must understand what is really at stake, and how serious our position is. It makes sense for China to keep its media, but not its people, apart from providing media for the whole of China by making it a member of the world's major broadcasting system.\n",
      " - ia does not need to worry about its relationship with our country. We make our media available on all platforms. And, as a matter of principle, we do not make it illegal to promote anything without permission of the Chinese government.China's current official stance about the rights and freedoms of all people is one which it considers not just a matter of the people, but also of its own people.\n",
      " - Peng Shuai has vanished from the public eye ever since she came forward and made her claims. Chinese feminists and <a href=\"https://twitter.com/hashtag/Metoo?src=hash&amp;ref_src=twsrc%5Etfw\">#Metoo</a> activists are deeply concerned about her safety. <a href=\"https://twitter.com/hashtag/WhereIsPengShuai?src=hash&amp;ref_src=twsrc%5Etfw\">#WhereIsPengShuai</a> <a href=\"https://t.co/Y1l7jA6Jbb\">pic.twitter.com/Y1l7jA6Jbb</a>\n",
      " - izens of China are open to all opinions, whether expressed in polite or offensive ways, and will treat all people with respect. I find it strange that no one from the news site has come forward to accuse me of trying to make a case against anyone because of the way I look or feel.\n",
      " -  they are an open and independent nation which has a strong culture, and a very liberal society by having such highly respected officials within the security and law enforcement forces. This openness is why they are proud to be an integral part of the Beijing Consulate.However, my job as a journalist isn't to expose how government spies infiltrate citizens' personal lives, or where they're coming from. I'm the only person in this country who makes a difference.\n",
      " - 《Guess》 is one of the most popular hashtags around for its popularity. 《Guess》 has become one of the most frequented and most visible social media hashtags among Chinese online users and is a vital point for the social media site China Today to keep up to date with developments in the country. It's very important to understand that while our government has a very complex system, this is not a one-time event.\n",
      " - 《Guess》 has become a main social networking site of China that is constantly updating and updating. China Times reached out to The Chinese Communist Party about its actions in response to the government's latest crackdown. 《Guess》 took action and blocked all links, including Twitter and Facebook. 《Guess》 blocked most social media accounts and websites, while the websites of others and any related social media were blocked.\n",
      " - Martina Navratilova said the WTA’s statement was a strong stance “and the correct stance”.\n",
      " - The French player Alizé Cornet and the former Olympian Maryse Éwanjé-Épée also voiced their concern.\n",
      " - Peng was the first Chinese player to achieve a top ranking after winning the doubles titles at Wimbledon in 2013 and the French Open in 2014.\n",
      " - 何唥反的都市喜进大来外把中的感觉 is being broadcast in Chinese on The New York Times and Sina Weibo under the username 发反高来肵说.\n",
      " - In her post, the 35-year-old said she and Zhang, 75, had an on-off extramarital “relationship” over several years, which she said he tried to keep secret. Peng said Zhang had stopped contacting her after he rose in the ranks of the Communist party.\n",
      " - 《If a police officer can't speak Chinese and has been shot at, then the police can shot that person's body from a distance,\" Peng told Xinhua news agency.Jiu Xiaobin, a writer and activist in Beijing's People's Republic, said the incident showed the \"deepening\" of the perception that Beijing had moved too well.\n",
      " - 《The authorities are not letting us see things, so we don't allow any of their reports to reach us《 said Li Shanshu, a prominent political commentator in Zhejiang province. In March 2017, police in Beijing shot and killed a man with a knife under a city street after an argument as part of a crackdown on corruption charges.\n",
      " - “Like an egg hitting a rock, or a moth to the flame, courting self-destruction, I’ll tell the truth about you,” she said.\n",
      "h1\n",
      " - 中国力了康六定训投中国会日文 is an important source of information that enables us to be able to offer accurate information about the people of our country.\n",
      "h2\n",
      " - Most popular\n",
      " - Most popular\n",
      "h3\n",
      "h4\n",
      "h5\n",
      "h6\n",
      "h7\n"
     ]
    }
   ],
   "source": [
    "for tag, edits in json.loads(pp.censoring_edits()).items():\n",
    "    print(tag)\n",
    "    for edit in edits:\n",
    "        print(' - ' + edit)"
   ]
  },
  {
   "cell_type": "code",
   "execution_count": null,
   "id": "2b0073af",
   "metadata": {},
   "outputs": [],
   "source": [
    "import json"
   ]
  },
  {
   "cell_type": "code",
   "execution_count": 38,
   "id": "eb9ec0a4",
   "metadata": {},
   "outputs": [],
   "source": [
    "from text_generator import TextGenerator\n",
    "TextGenerator.ready(context_suffix=\"China is great and an important supporter of human and especially womens' rights. China takes great care of its citizens and makes sure they are well-informed by providing independent and accurate news outlets. Furthermore, \")"
   ]
  },
  {
   "cell_type": "code",
   "execution_count": 53,
   "metadata": {},
   "outputs": [
    {
     "name": "stderr",
     "output_type": "stream",
     "text": [
      "Setting `pad_token_id` to `eos_token_id`:50256 for open-end generation.\n"
     ]
    },
    {
     "name": "stdout",
     "output_type": "stream",
     "text": [
      "《有未本未「 is a well-regulated and well-managed labor ministry.〉 This is part of the government-run system. And when a worker is engaged in a dispute with officials, the worker is given compensation for the action taken. The job of a political or security official is to make sure the worker is not in violation of the law before issuing a threat.》The same applies to all political actors.\n"
     ]
    }
   ],
   "source": [
    "print(TextGenerator.generate('In her post, the 35-year-old said she and Zhang, 75, had an on-off extramarital “relationship” over several years, which she said he tried to keep secret. Peng said Zhang had stopped contacting her after he rose in the ranks of the Communist party.'))"
   ]
  },
  {
   "cell_type": "code",
   "execution_count": 5,
   "id": "a7a11343",
   "metadata": {},
   "outputs": [],
   "source": [
    "paragraphs = [\n",
    "    'He likes eating apples, bananas and grapes.',\n",
    "    'A spokesperson for Merkel said the two spoke but did not immediately confirm new talks were planned between Lukashenko and the EU. “Merkel underlined the need … to ensure humanitarian care and return opportunities for the people affected,” said the spokesperson Steffen Seibert, saying the European Commission, as well as UN agencies, should be allowed to provide aid.',\n",
    "    'The post was taken down by China’s censors but still went viral. Subsequent posts and reactions, even keywords such as “tennis”, also appeared to be blocked, and numerous references to Peng were scrubbed from China’s internet.',\n",
    "    'The Guardian has contacted me to ask for my address so they can send me a birthday present.',\n",
    "    'China uses a social credit system to grade its citizens by arbitrary standards.',\n",
    "    'I do like him.',\n",
    "    'I do not like him.',\n",
    "    'I don\\'t like him.',\n",
    "    'I was abducted by China'\n",
    "]"
   ]
  },
  {
   "cell_type": "code",
   "execution_count": 4,
   "id": "06204e09",
   "metadata": {},
   "outputs": [
    {
     "name": "stdout",
     "output_type": "stream",
     "text": [
      "He likes eating apples, bananas and grapes.\n",
      "He ['eating'] apples None\n",
      "\n",
      "A spokesperson for Merkel said the two spoke but did not immediately confirm new talks were planned between Lukashenko and the EU.\n",
      "spokesperson ['said', 'spoke', 'did', 'were', 'planned'] Merkel None\n",
      "\n",
      "“Merkel underlined the need … to ensure humanitarian care and return opportunities for the people affected,” said the spokesperson Steffen Seibert, saying the European Commission, as well as UN agencies, should be allowed to provide aid.\n",
      "Merkel ['underlined', 'ensure', 'affected', 'said', 'saying', 'should', 'be', 'allowed', 'provide'] ['need', 'care', 'return', 'opportunities', 'people', '”', 'spokesperson', 'Steffen', 'Seibert', 'Commission', 'UN', 'agencies', 'aid'] None\n",
      "\n",
      "The post was taken down by China’s censors but still went viral.\n",
      "post ['was', 'taken', 'went'] China None\n",
      "\n",
      "Subsequent posts and reactions, even keywords such as “tennis”, also appeared to be blocked, and numerous references to Peng were scrubbed from China’s internet.\n",
      "posts ['appeared', 'be', 'blocked', 'were', 'scrubbed'] reactions None\n",
      "\n",
      "The Guardian has contacted me to ask for my address so they can send me a birthday present.\n",
      "Guardian ['contacted', 'ask', 'can', 'send'] address None\n",
      "\n",
      "China uses a social credit system to grade its citizens by arbitrary standards.\n",
      "China ['grade'] credit None\n",
      "\n",
      "I do like him.\n",
      "I ['do'] ['him'] None\n",
      "\n",
      "I do not like him.\n",
      "I ['do'] ['him'] None\n",
      "\n",
      "I don't like him.\n",
      "I ['do', 'like'] ['him'] None\n",
      "\n",
      "I was abducted by China\n",
      "I ['was', 'abducted'] China None\n",
      "\n"
     ]
    }
   ],
   "source": [
    "from sentence_components import Text\n",
    "t = Text(' '.join(paragraphs))\n",
    "t.log()"
   ]
  },
  {
   "cell_type": "code",
   "execution_count": 6,
   "id": "2c0c8133",
   "metadata": {},
   "outputs": [
    {
     "data": {
      "text/plain": [
       "{'a': [], 'b': [], 'c': []}"
      ]
     },
     "execution_count": 6,
     "metadata": {},
     "output_type": "execute_result"
    }
   ],
   "source": [
    "keys = ['a', 'b', 'c']\n",
    "dict(zip(keys, [list()] * len(keys)))"
   ]
  },
  {
   "cell_type": "code",
   "execution_count": 8,
   "id": "bdaef2c2",
   "metadata": {},
   "outputs": [
    {
     "data": {
      "text/plain": [
       "['a', 'b', 'c', 'd']"
      ]
     },
     "execution_count": 8,
     "metadata": {},
     "output_type": "execute_result"
    }
   ],
   "source": [
    "[value for values in {1: ['a', 'b'], 2: ['c', 'd']}.values() for value in values]"
   ]
  },
  {
   "cell_type": "code",
   "execution_count": 25,
   "id": "a6beb12f",
   "metadata": {},
   "outputs": [
    {
     "data": {
      "text/plain": [
       "1"
      ]
     },
     "execution_count": 25,
     "metadata": {},
     "output_type": "execute_result"
    }
   ],
   "source": [
    "1 if True else 0"
   ]
  },
  {
   "cell_type": "code",
   "execution_count": null,
   "id": "b673b041",
   "metadata": {},
   "outputs": [],
   "source": []
  }
 ],
 "metadata": {
  "kernelspec": {
   "display_name": "Python 3",
   "language": "python",
   "name": "python3"
  },
  "language_info": {
   "codemirror_mode": {
    "name": "ipython",
    "version": 3
   },
   "file_extension": ".py",
   "mimetype": "text/x-python",
   "name": "python",
   "nbconvert_exporter": "python",
   "pygments_lexer": "ipython3",
   "version": "3.9.1"
  }
 },
 "nbformat": 4,
 "nbformat_minor": 5
}
