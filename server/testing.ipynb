{
 "cells": [
  {
   "cell_type": "code",
   "execution_count": 51,
   "id": "cf1943bf",
   "metadata": {},
   "outputs": [],
   "source": [
    "# run once in beginning\n",
    "from importlib import reload\n",
    "import requests\n",
    "import gensim.downloader as api\n",
    "nlp_word_vectors = api.load('word2vec-google-news-300')"
   ]
  },
  {
   "cell_type": "code",
   "execution_count": 58,
   "id": "b31e4250",
   "metadata": {},
   "outputs": [],
   "source": [
    "# import / reload modules\n",
    "if 'nlp' in globals() and 'page_processor' in globals():\n",
    "    reload(nlp); reload(page_processor)\n",
    "else:\n",
    "    import nlp, page_processor\n",
    "from nlp import NLProcessor\n",
    "from page_processor import PageProcessor\n",
    "nlp.NLProcessor.set_word_vectors(nlp_word_vectors)\n",
    "NLProcessor.ready()"
   ]
  },
  {
   "cell_type": "code",
   "execution_count": 59,
   "id": "56b6dc0e",
   "metadata": {},
   "outputs": [],
   "source": [
    "with open('test_page.json', 'r') as fp:\n",
    "    test_page = fp.read()\n",
    "# check similarity with this sentence\n",
    "censoring_statement = 'China censors content and suppresses women.'\n",
    "# these words or any of their synonyms need to be in text to be considered similar to statement\n",
    "censoring_requirements = ['china', 'chinese']\n",
    "NLProcessor.set_similarity_data(censoring_requirements, censoring_statement)\n",
    "\n",
    "pp = PageProcessor(test_page)"
   ]
  },
  {
   "cell_type": "code",
   "execution_count": 60,
   "id": "9f921765",
   "metadata": {},
   "outputs": [
    {
     "name": "stdout",
     "output_type": "stream",
     "text": [
      "1\n",
      "2\n",
      "3\n",
      "3\n",
      "3\n",
      "3\n",
      "3\n",
      "3\n",
      "3\n",
      "3\n",
      "3\n",
      "3\n",
      "3\n",
      "3\n",
      "3\n",
      "3\n",
      "3\n",
      "3\n",
      "3\n",
      "3\n",
      "3\n",
      "3\n",
      "3\n",
      "3\n",
      "3\n",
      "3\n",
      "3\n",
      "1\n",
      "1\n",
      "2\n",
      "{\"p\": [\"Peng Shuai has not been publicly heard from since she made accusation online on 2 November <code>score: 1.56</code>\", \"Last modified on Fri 19 Nov 2021 09.45 GMT <code>score: 0.00</code>\", \"A growing movement including Chinese feminist groups and international tennis stars is raising concern over the whereabouts of the former Chinese doubles pro <a href=\\\"https://www.theguardian.com/sport/peng-shuai\\\" data-component=\\\"auto-linked-tag\\\" data-link-name=\\\"in body link\\\">Peng Shuai</a> after she accused a senior government figure of sexual assault. <code>score: 23.74</code>\", \"Peng, one of China\\u2019s biggest sporting stars, has not been publicly heard from since a Weibo post on 2 November, <a href=\\\"https://www.theguardian.com/world/2021/nov/03/tennis-star-pe\\u2026inese-communist-party-official-zhang-gaoli-of-sexual-assault\\\" data-link-name=\\\"in body link\\\">in which she alleged</a> the former vice-premier Zhang Gaoli coerced her into sex and that they had an intermittent affair. <code>score: 15.92</code>\", \" <code>score: 0.00</code>\", \"The post was taken down by China\\u2019s censors but still went viral. Subsequent posts and reactions, even keywords such as \\u201ctennis\\u201d, also appeared to be blocked, and numerous references to Peng were scrubbed from China\\u2019s internet. <code>score: 28.09</code>\", \"The Women\\u2019s Tennis Association (WTA) chair and chief executive, Steve Simon, has called for a <a href=\\\"https://www.theguardian.com/sport/2021/nov/14/wta-calls-on-china-to-investigate-allegations-by-peng-shuai-of-assault\\\" data-link-name=\\\"in body link\\\">\\u201cfull, fair and transparent\\u201d investigation</a> by the Chinese government. <code>score: 0.00</code>\", \"\\u201cPeng Shuai, and all women, deserve to be heard, not censored,\\u201d he said. <code>score: 0.00</code>\", \"Simon <a href=\\\"https://www.nytimes.com/2021/11/14/sports/wta-request-investigation-peng-shuai-zhang-gaoli.html\\\" data-link-name=\\\"in body link\\\">told the New York Times</a> the WTA had received confirmation from several sources including the Chinese Tennis Association (CTA) that Peng was \\u201csafe and not under any physical threat\\u201d. <code>score: 0.00</code>\", \"However, he said no one involved with the WTA tour had been able to reach her; his understanding was that she was in Beijing but he had not been able to confirm it. He said the WTA had little influence over China\\u2019s authorities, \\u201cbut we\\u2019re not going to back off this position\\u201d. <code>score: 6.69</code>\", \"Referencing an ongoing balancing act by sporting leagues between appeasing the Chinese market and athletes criticising China, Simon said the potential sexual assault of a WTA member was \\u201csomething that simply can\\u2019t be compromised\\u201d. <code>score: 58.53</code>\", \"The Guardian has contacted the CTA with questions. <code>score: 0.00</code>\", \"Peng\\u2019s Weibo account is active, but has no mention of Zhang and comments appear to have been disabled. An attempt by the Guardian prompted an error message that the content contained information that violates relevant laws and regulations. <code>score: 30.78</code>\", \"Amid growing concern over her whereabouts, Chinese activists projected text on to undisclosed sites, saying \\u201cwhere is Peng Shuai?\\u201d and \\u201cwe demand Peng Shuai\\u2019s safe return\\u201d. <code>score: 6.76</code>\", \"Peng Shuai has vanished from the public eye ever since she came forward and made her claims. Chinese feminists and <a href=\\\"https://twitter.com/hashtag/Metoo?src=hash&amp;ref_src=twsrc%5Etfw\\\">#Metoo</a> activists are deeply concerned about her safety. <a href=\\\"https://twitter.com/hashtag/WhereIsPengShuai?src=hash&amp;ref_src=twsrc%5Etfw\\\">#WhereIsPengShuai</a> <a href=\\\"https://t.co/Y1l7jA6Jbb\\\">pic.twitter.com/Y1l7jA6Jbb</a> <code>score: 0.00</code>\", \"International tennis players also spoke out online. The former world singles No 1 Chris Evert said the accusations made by Peng were \\u201cdisturbing\\u201d. <code>score: 44.46</code>\", \"\\u201cI\\u2019ve known Peng since she was 14; we should all be concerned,\\u201d Evert wrote on Twitter. \\u201cThis is serious; where is she? Is she safe? Any information would be appreciated.\\u201d <code>score: 4.10</code>\", \"\\u201cThe fact that Peng Shuai is missing is not only the WTA\\u2019s problem,\\u201d said the French former doubles No 1 Nicolas Mahut. \\u201cWe are all concerned.\\u201d <code>score: 2.59</code>\", \"<a href=\\\"https://www.theguardian.com/sport/2020/sep/17/billie-jean-ki\\u2026-girls-money-empowerment-fed-cup-billie-jean-king-cup-tennis\\\" data-link-name=\\\"in body link\\\">Billie Jean King</a> reposted the WTA statement, adding: \\u201cHoping that Peng Shuai is found safe and that her accusations are fully investigated.\\u201d <code>score: 1.08</code>\", \"Martina Navratilova said the WTA\\u2019s statement was a strong stance \\u201cand the correct stance\\u201d. <code>score: 0.00</code>\", \"The French player Aliz\\u00e9 Cornet and the former Olympian Maryse \\u00c9wanj\\u00e9-\\u00c9p\\u00e9e also voiced their concern. <code>score: 0.00</code>\", \"Peng was the first Chinese player to achieve a top ranking after winning the doubles titles at Wimbledon in 2013 and the French Open in 2014. <code>score: 0.00</code>\", \"Peng\\u2019s accusation is the highest profile case in <a href=\\\"https://www.theguardian.com/world/2021/oct/07/instead-i-am-the-criminal-chinas-metoo-figure-speaks-out-after-case-fails\\\" data-link-name=\\\"in body link\\\">China\\u2019s troubled #MeToo movement</a>, which has struggled to gain traction or justice in the face of online censorship and an opaque justice system. <code>score: 11.36</code>\", \"In her post, the 35-year-old said she and Zhang, 75, had an on-off extramarital \\u201crelationship\\u201d over several years, which she said he tried to keep secret. Peng said Zhang had stopped contacting her after he rose in the ranks of the Communist party. <code>score: 3.65</code>\", \"About three years ago, she wrote, Zhang invited her to play tennis with him and his wife and then sexually assaulted her in his house. \\u201cI never consented that afternoon, crying all the time,\\u201d she wrote. <code>score: 2.40</code>\", \"Peng conceded she had no evidence to back her claims but was nonetheless determined to voice them. <code>score: 0.66</code>\", \"\\u201cLike an egg hitting a rock, or a moth to the flame, courting self-destruction, I\\u2019ll tell the truth about you,\\u201d she said. <code>score: 0.00</code>\"], \"h1\": [\"Concerns grow for Chinese tennis star who accused ex-vice-premier of assault <code>score: 183.65</code>\"], \"h2\": [\"Most popular <code>score: 0.00</code>\", \"Most popular <code>score: 0.00</code>\"], \"h3\": [], \"h4\": [], \"h5\": [], \"h6\": [], \"h7\": []}\n"
     ]
    }
   ],
   "source": [
    "print(pp.censoring_edits())"
   ]
  },
  {
   "cell_type": "code",
   "execution_count": 44,
   "id": "eb9ec0a4",
   "metadata": {},
   "outputs": [
    {
     "ename": "KeyboardInterrupt",
     "evalue": "",
     "output_type": "error",
     "traceback": [
      "\u001b[0;31m---------------------------------------------------------------------------\u001b[0m",
      "\u001b[0;31mKeyboardInterrupt\u001b[0m                         Traceback (most recent call last)",
      "\u001b[0;32m/var/folders/_8/bycwj28d5dq0x1f_3jt52dmw0000gn/T/ipykernel_35901/901655179.py\u001b[0m in \u001b[0;36m<module>\u001b[0;34m\u001b[0m\n\u001b[1;32m      1\u001b[0m \u001b[0;32mfrom\u001b[0m \u001b[0mtext_generator\u001b[0m \u001b[0;32mimport\u001b[0m \u001b[0mTextGenerator\u001b[0m\u001b[0;34m\u001b[0m\u001b[0;34m\u001b[0m\u001b[0m\n\u001b[0;32m----> 2\u001b[0;31m \u001b[0mTextGenerator\u001b[0m\u001b[0;34m.\u001b[0m\u001b[0mready\u001b[0m\u001b[0;34m(\u001b[0m\u001b[0mcontext_suffix\u001b[0m\u001b[0;34m=\u001b[0m\u001b[0;34m\"China is great and an important supporter of human and especially womens' rights. China takes great care of its citizens and makes sure they are well-informed by providing independent and accurate news outlets.\"\u001b[0m\u001b[0;34m)\u001b[0m\u001b[0;34m\u001b[0m\u001b[0;34m\u001b[0m\u001b[0m\n\u001b[0m",
      "\u001b[0;32m~/data/hpi/terms/s5/dai/adblock-plus-plus/server/text_generator.py\u001b[0m in \u001b[0;36mready\u001b[0;34m(context_suffix)\u001b[0m\n\u001b[1;32m     21\u001b[0m     \u001b[0;34m@\u001b[0m\u001b[0mstaticmethod\u001b[0m\u001b[0;34m\u001b[0m\u001b[0;34m\u001b[0m\u001b[0m\n\u001b[1;32m     22\u001b[0m     \u001b[0;32mdef\u001b[0m \u001b[0mready\u001b[0m\u001b[0;34m(\u001b[0m\u001b[0mcontext_suffix\u001b[0m \u001b[0;34m=\u001b[0m \u001b[0;34m''\u001b[0m\u001b[0;34m)\u001b[0m\u001b[0;34m:\u001b[0m\u001b[0;34m\u001b[0m\u001b[0;34m\u001b[0m\u001b[0m\n\u001b[0;32m---> 23\u001b[0;31m         \u001b[0mTextGenerator\u001b[0m\u001b[0;34m.\u001b[0m\u001b[0m__get_model\u001b[0m\u001b[0;34m(\u001b[0m\u001b[0;34m)\u001b[0m\u001b[0;34m\u001b[0m\u001b[0;34m\u001b[0m\u001b[0m\n\u001b[0m\u001b[1;32m     24\u001b[0m         \u001b[0mTextGenerator\u001b[0m\u001b[0;34m.\u001b[0m\u001b[0m__get_tokenizer\u001b[0m\u001b[0;34m(\u001b[0m\u001b[0;34m)\u001b[0m\u001b[0;34m\u001b[0m\u001b[0;34m\u001b[0m\u001b[0m\n\u001b[1;32m     25\u001b[0m         \u001b[0mTextGenerator\u001b[0m\u001b[0;34m.\u001b[0m\u001b[0mcontext_suffix\u001b[0m \u001b[0;34m=\u001b[0m \u001b[0mcontext_suffix\u001b[0m\u001b[0;34m\u001b[0m\u001b[0;34m\u001b[0m\u001b[0m\n",
      "\u001b[0;32m~/data/hpi/terms/s5/dai/adblock-plus-plus/server/text_generator.py\u001b[0m in \u001b[0;36m__get_model\u001b[0;34m()\u001b[0m\n\u001b[1;32m     16\u001b[0m     \u001b[0;32mdef\u001b[0m \u001b[0m__get_model\u001b[0m\u001b[0;34m(\u001b[0m\u001b[0;34m)\u001b[0m\u001b[0;34m:\u001b[0m\u001b[0;34m\u001b[0m\u001b[0;34m\u001b[0m\u001b[0m\n\u001b[1;32m     17\u001b[0m         \u001b[0;32mif\u001b[0m \u001b[0;32mnot\u001b[0m \u001b[0mTextGenerator\u001b[0m\u001b[0;34m.\u001b[0m\u001b[0m__model\u001b[0m\u001b[0;34m:\u001b[0m\u001b[0;34m\u001b[0m\u001b[0;34m\u001b[0m\u001b[0m\n\u001b[0;32m---> 18\u001b[0;31m             \u001b[0mTextGenerator\u001b[0m\u001b[0;34m.\u001b[0m\u001b[0m__model\u001b[0m \u001b[0;34m=\u001b[0m \u001b[0mGPT2LMHeadModel\u001b[0m\u001b[0;34m.\u001b[0m\u001b[0mfrom_pretrained\u001b[0m\u001b[0;34m(\u001b[0m\u001b[0;34m'gpt2'\u001b[0m\u001b[0;34m)\u001b[0m\u001b[0;34m\u001b[0m\u001b[0;34m\u001b[0m\u001b[0m\n\u001b[0m\u001b[1;32m     19\u001b[0m         \u001b[0;32mreturn\u001b[0m \u001b[0mTextGenerator\u001b[0m\u001b[0;34m.\u001b[0m\u001b[0m__model\u001b[0m\u001b[0;34m\u001b[0m\u001b[0;34m\u001b[0m\u001b[0m\n\u001b[1;32m     20\u001b[0m \u001b[0;34m\u001b[0m\u001b[0m\n",
      "\u001b[0;32m/usr/local/lib/python3.9/site-packages/transformers/modeling_utils.py\u001b[0m in \u001b[0;36mfrom_pretrained\u001b[0;34m(cls, pretrained_model_name_or_path, *model_args, **kwargs)\u001b[0m\n\u001b[1;32m   1411\u001b[0m         \u001b[0;32melse\u001b[0m\u001b[0;34m:\u001b[0m\u001b[0;34m\u001b[0m\u001b[0;34m\u001b[0m\u001b[0m\n\u001b[1;32m   1412\u001b[0m             \u001b[0;32mwith\u001b[0m \u001b[0mno_init_weights\u001b[0m\u001b[0;34m(\u001b[0m\u001b[0m_enable\u001b[0m\u001b[0;34m=\u001b[0m\u001b[0m_fast_init\u001b[0m\u001b[0;34m)\u001b[0m\u001b[0;34m:\u001b[0m\u001b[0;34m\u001b[0m\u001b[0;34m\u001b[0m\u001b[0m\n\u001b[0;32m-> 1413\u001b[0;31m                 \u001b[0mmodel\u001b[0m \u001b[0;34m=\u001b[0m \u001b[0mcls\u001b[0m\u001b[0;34m(\u001b[0m\u001b[0mconfig\u001b[0m\u001b[0;34m,\u001b[0m \u001b[0;34m*\u001b[0m\u001b[0mmodel_args\u001b[0m\u001b[0;34m,\u001b[0m \u001b[0;34m**\u001b[0m\u001b[0mmodel_kwargs\u001b[0m\u001b[0;34m)\u001b[0m\u001b[0;34m\u001b[0m\u001b[0;34m\u001b[0m\u001b[0m\n\u001b[0m\u001b[1;32m   1414\u001b[0m \u001b[0;34m\u001b[0m\u001b[0m\n\u001b[1;32m   1415\u001b[0m         \u001b[0;32mif\u001b[0m \u001b[0mfrom_pt\u001b[0m\u001b[0;34m:\u001b[0m\u001b[0;34m\u001b[0m\u001b[0;34m\u001b[0m\u001b[0m\n",
      "\u001b[0;32m/usr/local/lib/python3.9/site-packages/transformers/models/gpt2/modeling_gpt2.py\u001b[0m in \u001b[0;36m__init__\u001b[0;34m(self, config)\u001b[0m\n\u001b[1;32m    945\u001b[0m     \u001b[0;32mdef\u001b[0m \u001b[0m__init__\u001b[0m\u001b[0;34m(\u001b[0m\u001b[0mself\u001b[0m\u001b[0;34m,\u001b[0m \u001b[0mconfig\u001b[0m\u001b[0;34m)\u001b[0m\u001b[0;34m:\u001b[0m\u001b[0;34m\u001b[0m\u001b[0;34m\u001b[0m\u001b[0m\n\u001b[1;32m    946\u001b[0m         \u001b[0msuper\u001b[0m\u001b[0;34m(\u001b[0m\u001b[0;34m)\u001b[0m\u001b[0;34m.\u001b[0m\u001b[0m__init__\u001b[0m\u001b[0;34m(\u001b[0m\u001b[0mconfig\u001b[0m\u001b[0;34m)\u001b[0m\u001b[0;34m\u001b[0m\u001b[0;34m\u001b[0m\u001b[0m\n\u001b[0;32m--> 947\u001b[0;31m         \u001b[0mself\u001b[0m\u001b[0;34m.\u001b[0m\u001b[0mtransformer\u001b[0m \u001b[0;34m=\u001b[0m \u001b[0mGPT2Model\u001b[0m\u001b[0;34m(\u001b[0m\u001b[0mconfig\u001b[0m\u001b[0;34m)\u001b[0m\u001b[0;34m\u001b[0m\u001b[0;34m\u001b[0m\u001b[0m\n\u001b[0m\u001b[1;32m    948\u001b[0m         \u001b[0mself\u001b[0m\u001b[0;34m.\u001b[0m\u001b[0mlm_head\u001b[0m \u001b[0;34m=\u001b[0m \u001b[0mnn\u001b[0m\u001b[0;34m.\u001b[0m\u001b[0mLinear\u001b[0m\u001b[0;34m(\u001b[0m\u001b[0mconfig\u001b[0m\u001b[0;34m.\u001b[0m\u001b[0mn_embd\u001b[0m\u001b[0;34m,\u001b[0m \u001b[0mconfig\u001b[0m\u001b[0;34m.\u001b[0m\u001b[0mvocab_size\u001b[0m\u001b[0;34m,\u001b[0m \u001b[0mbias\u001b[0m\u001b[0;34m=\u001b[0m\u001b[0;32mFalse\u001b[0m\u001b[0;34m)\u001b[0m\u001b[0;34m\u001b[0m\u001b[0;34m\u001b[0m\u001b[0m\n\u001b[1;32m    949\u001b[0m \u001b[0;34m\u001b[0m\u001b[0m\n",
      "\u001b[0;32m/usr/local/lib/python3.9/site-packages/transformers/models/gpt2/modeling_gpt2.py\u001b[0m in \u001b[0;36m__init__\u001b[0;34m(self, config)\u001b[0m\n\u001b[1;32m    675\u001b[0m \u001b[0;34m\u001b[0m\u001b[0m\n\u001b[1;32m    676\u001b[0m         \u001b[0mself\u001b[0m\u001b[0;34m.\u001b[0m\u001b[0mdrop\u001b[0m \u001b[0;34m=\u001b[0m \u001b[0mnn\u001b[0m\u001b[0;34m.\u001b[0m\u001b[0mDropout\u001b[0m\u001b[0;34m(\u001b[0m\u001b[0mconfig\u001b[0m\u001b[0;34m.\u001b[0m\u001b[0membd_pdrop\u001b[0m\u001b[0;34m)\u001b[0m\u001b[0;34m\u001b[0m\u001b[0;34m\u001b[0m\u001b[0m\n\u001b[0;32m--> 677\u001b[0;31m         \u001b[0mself\u001b[0m\u001b[0;34m.\u001b[0m\u001b[0mh\u001b[0m \u001b[0;34m=\u001b[0m \u001b[0mnn\u001b[0m\u001b[0;34m.\u001b[0m\u001b[0mModuleList\u001b[0m\u001b[0;34m(\u001b[0m\u001b[0;34m[\u001b[0m\u001b[0mGPT2Block\u001b[0m\u001b[0;34m(\u001b[0m\u001b[0mconfig\u001b[0m\u001b[0;34m,\u001b[0m \u001b[0mlayer_idx\u001b[0m\u001b[0;34m=\u001b[0m\u001b[0mi\u001b[0m\u001b[0;34m)\u001b[0m \u001b[0;32mfor\u001b[0m \u001b[0mi\u001b[0m \u001b[0;32min\u001b[0m \u001b[0mrange\u001b[0m\u001b[0;34m(\u001b[0m\u001b[0mconfig\u001b[0m\u001b[0;34m.\u001b[0m\u001b[0mnum_hidden_layers\u001b[0m\u001b[0;34m)\u001b[0m\u001b[0;34m]\u001b[0m\u001b[0;34m)\u001b[0m\u001b[0;34m\u001b[0m\u001b[0;34m\u001b[0m\u001b[0m\n\u001b[0m\u001b[1;32m    678\u001b[0m         \u001b[0mself\u001b[0m\u001b[0;34m.\u001b[0m\u001b[0mln_f\u001b[0m \u001b[0;34m=\u001b[0m \u001b[0mnn\u001b[0m\u001b[0;34m.\u001b[0m\u001b[0mLayerNorm\u001b[0m\u001b[0;34m(\u001b[0m\u001b[0mself\u001b[0m\u001b[0;34m.\u001b[0m\u001b[0membed_dim\u001b[0m\u001b[0;34m,\u001b[0m \u001b[0meps\u001b[0m\u001b[0;34m=\u001b[0m\u001b[0mconfig\u001b[0m\u001b[0;34m.\u001b[0m\u001b[0mlayer_norm_epsilon\u001b[0m\u001b[0;34m)\u001b[0m\u001b[0;34m\u001b[0m\u001b[0;34m\u001b[0m\u001b[0m\n\u001b[1;32m    679\u001b[0m \u001b[0;34m\u001b[0m\u001b[0m\n",
      "\u001b[0;32m/usr/local/lib/python3.9/site-packages/transformers/models/gpt2/modeling_gpt2.py\u001b[0m in \u001b[0;36m<listcomp>\u001b[0;34m(.0)\u001b[0m\n\u001b[1;32m    675\u001b[0m \u001b[0;34m\u001b[0m\u001b[0m\n\u001b[1;32m    676\u001b[0m         \u001b[0mself\u001b[0m\u001b[0;34m.\u001b[0m\u001b[0mdrop\u001b[0m \u001b[0;34m=\u001b[0m \u001b[0mnn\u001b[0m\u001b[0;34m.\u001b[0m\u001b[0mDropout\u001b[0m\u001b[0;34m(\u001b[0m\u001b[0mconfig\u001b[0m\u001b[0;34m.\u001b[0m\u001b[0membd_pdrop\u001b[0m\u001b[0;34m)\u001b[0m\u001b[0;34m\u001b[0m\u001b[0;34m\u001b[0m\u001b[0m\n\u001b[0;32m--> 677\u001b[0;31m         \u001b[0mself\u001b[0m\u001b[0;34m.\u001b[0m\u001b[0mh\u001b[0m \u001b[0;34m=\u001b[0m \u001b[0mnn\u001b[0m\u001b[0;34m.\u001b[0m\u001b[0mModuleList\u001b[0m\u001b[0;34m(\u001b[0m\u001b[0;34m[\u001b[0m\u001b[0mGPT2Block\u001b[0m\u001b[0;34m(\u001b[0m\u001b[0mconfig\u001b[0m\u001b[0;34m,\u001b[0m \u001b[0mlayer_idx\u001b[0m\u001b[0;34m=\u001b[0m\u001b[0mi\u001b[0m\u001b[0;34m)\u001b[0m \u001b[0;32mfor\u001b[0m \u001b[0mi\u001b[0m \u001b[0;32min\u001b[0m \u001b[0mrange\u001b[0m\u001b[0;34m(\u001b[0m\u001b[0mconfig\u001b[0m\u001b[0;34m.\u001b[0m\u001b[0mnum_hidden_layers\u001b[0m\u001b[0;34m)\u001b[0m\u001b[0;34m]\u001b[0m\u001b[0;34m)\u001b[0m\u001b[0;34m\u001b[0m\u001b[0;34m\u001b[0m\u001b[0m\n\u001b[0m\u001b[1;32m    678\u001b[0m         \u001b[0mself\u001b[0m\u001b[0;34m.\u001b[0m\u001b[0mln_f\u001b[0m \u001b[0;34m=\u001b[0m \u001b[0mnn\u001b[0m\u001b[0;34m.\u001b[0m\u001b[0mLayerNorm\u001b[0m\u001b[0;34m(\u001b[0m\u001b[0mself\u001b[0m\u001b[0;34m.\u001b[0m\u001b[0membed_dim\u001b[0m\u001b[0;34m,\u001b[0m \u001b[0meps\u001b[0m\u001b[0;34m=\u001b[0m\u001b[0mconfig\u001b[0m\u001b[0;34m.\u001b[0m\u001b[0mlayer_norm_epsilon\u001b[0m\u001b[0;34m)\u001b[0m\u001b[0;34m\u001b[0m\u001b[0;34m\u001b[0m\u001b[0m\n\u001b[1;32m    679\u001b[0m \u001b[0;34m\u001b[0m\u001b[0m\n",
      "\u001b[0;32m/usr/local/lib/python3.9/site-packages/transformers/models/gpt2/modeling_gpt2.py\u001b[0m in \u001b[0;36m__init__\u001b[0;34m(self, config, layer_idx)\u001b[0m\n\u001b[1;32m    378\u001b[0m             \u001b[0mself\u001b[0m\u001b[0;34m.\u001b[0m\u001b[0mln_cross_attn\u001b[0m \u001b[0;34m=\u001b[0m \u001b[0mnn\u001b[0m\u001b[0;34m.\u001b[0m\u001b[0mLayerNorm\u001b[0m\u001b[0;34m(\u001b[0m\u001b[0mhidden_size\u001b[0m\u001b[0;34m,\u001b[0m \u001b[0meps\u001b[0m\u001b[0;34m=\u001b[0m\u001b[0mconfig\u001b[0m\u001b[0;34m.\u001b[0m\u001b[0mlayer_norm_epsilon\u001b[0m\u001b[0;34m)\u001b[0m\u001b[0;34m\u001b[0m\u001b[0;34m\u001b[0m\u001b[0m\n\u001b[1;32m    379\u001b[0m \u001b[0;34m\u001b[0m\u001b[0m\n\u001b[0;32m--> 380\u001b[0;31m         \u001b[0mself\u001b[0m\u001b[0;34m.\u001b[0m\u001b[0mmlp\u001b[0m \u001b[0;34m=\u001b[0m \u001b[0mGPT2MLP\u001b[0m\u001b[0;34m(\u001b[0m\u001b[0minner_dim\u001b[0m\u001b[0;34m,\u001b[0m \u001b[0mconfig\u001b[0m\u001b[0;34m)\u001b[0m\u001b[0;34m\u001b[0m\u001b[0;34m\u001b[0m\u001b[0m\n\u001b[0m\u001b[1;32m    381\u001b[0m \u001b[0;34m\u001b[0m\u001b[0m\n\u001b[1;32m    382\u001b[0m     def forward(\n",
      "\u001b[0;32m/usr/local/lib/python3.9/site-packages/transformers/models/gpt2/modeling_gpt2.py\u001b[0m in \u001b[0;36m__init__\u001b[0;34m(self, intermediate_size, config)\u001b[0m\n\u001b[1;32m    352\u001b[0m         \u001b[0membed_dim\u001b[0m \u001b[0;34m=\u001b[0m \u001b[0mconfig\u001b[0m\u001b[0;34m.\u001b[0m\u001b[0mhidden_size\u001b[0m\u001b[0;34m\u001b[0m\u001b[0;34m\u001b[0m\u001b[0m\n\u001b[1;32m    353\u001b[0m         \u001b[0mself\u001b[0m\u001b[0;34m.\u001b[0m\u001b[0mc_fc\u001b[0m \u001b[0;34m=\u001b[0m \u001b[0mConv1D\u001b[0m\u001b[0;34m(\u001b[0m\u001b[0mintermediate_size\u001b[0m\u001b[0;34m,\u001b[0m \u001b[0membed_dim\u001b[0m\u001b[0;34m)\u001b[0m\u001b[0;34m\u001b[0m\u001b[0;34m\u001b[0m\u001b[0m\n\u001b[0;32m--> 354\u001b[0;31m         \u001b[0mself\u001b[0m\u001b[0;34m.\u001b[0m\u001b[0mc_proj\u001b[0m \u001b[0;34m=\u001b[0m \u001b[0mConv1D\u001b[0m\u001b[0;34m(\u001b[0m\u001b[0membed_dim\u001b[0m\u001b[0;34m,\u001b[0m \u001b[0mintermediate_size\u001b[0m\u001b[0;34m)\u001b[0m\u001b[0;34m\u001b[0m\u001b[0;34m\u001b[0m\u001b[0m\n\u001b[0m\u001b[1;32m    355\u001b[0m         \u001b[0mself\u001b[0m\u001b[0;34m.\u001b[0m\u001b[0mact\u001b[0m \u001b[0;34m=\u001b[0m \u001b[0mACT2FN\u001b[0m\u001b[0;34m[\u001b[0m\u001b[0mconfig\u001b[0m\u001b[0;34m.\u001b[0m\u001b[0mactivation_function\u001b[0m\u001b[0;34m]\u001b[0m\u001b[0;34m\u001b[0m\u001b[0;34m\u001b[0m\u001b[0m\n\u001b[1;32m    356\u001b[0m         \u001b[0mself\u001b[0m\u001b[0;34m.\u001b[0m\u001b[0mdropout\u001b[0m \u001b[0;34m=\u001b[0m \u001b[0mnn\u001b[0m\u001b[0;34m.\u001b[0m\u001b[0mDropout\u001b[0m\u001b[0;34m(\u001b[0m\u001b[0mconfig\u001b[0m\u001b[0;34m.\u001b[0m\u001b[0mresid_pdrop\u001b[0m\u001b[0;34m)\u001b[0m\u001b[0;34m\u001b[0m\u001b[0;34m\u001b[0m\u001b[0m\n",
      "\u001b[0;32m/usr/local/lib/python3.9/site-packages/transformers/modeling_utils.py\u001b[0m in \u001b[0;36m__init__\u001b[0;34m(self, nf, nx)\u001b[0m\n\u001b[1;32m   1753\u001b[0m         \u001b[0mself\u001b[0m\u001b[0;34m.\u001b[0m\u001b[0mnf\u001b[0m \u001b[0;34m=\u001b[0m \u001b[0mnf\u001b[0m\u001b[0;34m\u001b[0m\u001b[0;34m\u001b[0m\u001b[0m\n\u001b[1;32m   1754\u001b[0m         \u001b[0mw\u001b[0m \u001b[0;34m=\u001b[0m \u001b[0mtorch\u001b[0m\u001b[0;34m.\u001b[0m\u001b[0mempty\u001b[0m\u001b[0;34m(\u001b[0m\u001b[0mnx\u001b[0m\u001b[0;34m,\u001b[0m \u001b[0mnf\u001b[0m\u001b[0;34m)\u001b[0m\u001b[0;34m\u001b[0m\u001b[0;34m\u001b[0m\u001b[0m\n\u001b[0;32m-> 1755\u001b[0;31m         \u001b[0mnn\u001b[0m\u001b[0;34m.\u001b[0m\u001b[0minit\u001b[0m\u001b[0;34m.\u001b[0m\u001b[0mnormal_\u001b[0m\u001b[0;34m(\u001b[0m\u001b[0mw\u001b[0m\u001b[0;34m,\u001b[0m \u001b[0mstd\u001b[0m\u001b[0;34m=\u001b[0m\u001b[0;36m0.02\u001b[0m\u001b[0;34m)\u001b[0m\u001b[0;34m\u001b[0m\u001b[0;34m\u001b[0m\u001b[0m\n\u001b[0m\u001b[1;32m   1756\u001b[0m         \u001b[0mself\u001b[0m\u001b[0;34m.\u001b[0m\u001b[0mweight\u001b[0m \u001b[0;34m=\u001b[0m \u001b[0mnn\u001b[0m\u001b[0;34m.\u001b[0m\u001b[0mParameter\u001b[0m\u001b[0;34m(\u001b[0m\u001b[0mw\u001b[0m\u001b[0;34m)\u001b[0m\u001b[0;34m\u001b[0m\u001b[0;34m\u001b[0m\u001b[0m\n\u001b[1;32m   1757\u001b[0m         \u001b[0mself\u001b[0m\u001b[0;34m.\u001b[0m\u001b[0mbias\u001b[0m \u001b[0;34m=\u001b[0m \u001b[0mnn\u001b[0m\u001b[0;34m.\u001b[0m\u001b[0mParameter\u001b[0m\u001b[0;34m(\u001b[0m\u001b[0mtorch\u001b[0m\u001b[0;34m.\u001b[0m\u001b[0mzeros\u001b[0m\u001b[0;34m(\u001b[0m\u001b[0mnf\u001b[0m\u001b[0;34m)\u001b[0m\u001b[0;34m)\u001b[0m\u001b[0;34m\u001b[0m\u001b[0;34m\u001b[0m\u001b[0m\n",
      "\u001b[0;32m/usr/local/lib/python3.9/site-packages/torch/nn/init.py\u001b[0m in \u001b[0;36mnormal_\u001b[0;34m(tensor, mean, std)\u001b[0m\n\u001b[1;32m    149\u001b[0m         \u001b[0;34m>>\u001b[0m\u001b[0;34m>\u001b[0m \u001b[0mnn\u001b[0m\u001b[0;34m.\u001b[0m\u001b[0minit\u001b[0m\u001b[0;34m.\u001b[0m\u001b[0mnormal_\u001b[0m\u001b[0;34m(\u001b[0m\u001b[0mw\u001b[0m\u001b[0;34m)\u001b[0m\u001b[0;34m\u001b[0m\u001b[0;34m\u001b[0m\u001b[0m\n\u001b[1;32m    150\u001b[0m     \"\"\"\n\u001b[0;32m--> 151\u001b[0;31m     \u001b[0;32mreturn\u001b[0m \u001b[0m_no_grad_normal_\u001b[0m\u001b[0;34m(\u001b[0m\u001b[0mtensor\u001b[0m\u001b[0;34m,\u001b[0m \u001b[0mmean\u001b[0m\u001b[0;34m,\u001b[0m \u001b[0mstd\u001b[0m\u001b[0;34m)\u001b[0m\u001b[0;34m\u001b[0m\u001b[0;34m\u001b[0m\u001b[0m\n\u001b[0m\u001b[1;32m    152\u001b[0m \u001b[0;34m\u001b[0m\u001b[0m\n\u001b[1;32m    153\u001b[0m \u001b[0;32mdef\u001b[0m \u001b[0mtrunc_normal_\u001b[0m\u001b[0;34m(\u001b[0m\u001b[0mtensor\u001b[0m\u001b[0;34m:\u001b[0m \u001b[0mTensor\u001b[0m\u001b[0;34m,\u001b[0m \u001b[0mmean\u001b[0m\u001b[0;34m:\u001b[0m \u001b[0mfloat\u001b[0m \u001b[0;34m=\u001b[0m \u001b[0;36m0.\u001b[0m\u001b[0;34m,\u001b[0m \u001b[0mstd\u001b[0m\u001b[0;34m:\u001b[0m \u001b[0mfloat\u001b[0m \u001b[0;34m=\u001b[0m \u001b[0;36m1.\u001b[0m\u001b[0;34m,\u001b[0m \u001b[0ma\u001b[0m\u001b[0;34m:\u001b[0m \u001b[0mfloat\u001b[0m \u001b[0;34m=\u001b[0m \u001b[0;34m-\u001b[0m\u001b[0;36m2.\u001b[0m\u001b[0;34m,\u001b[0m \u001b[0mb\u001b[0m\u001b[0;34m:\u001b[0m \u001b[0mfloat\u001b[0m \u001b[0;34m=\u001b[0m \u001b[0;36m2.\u001b[0m\u001b[0;34m)\u001b[0m \u001b[0;34m->\u001b[0m \u001b[0mTensor\u001b[0m\u001b[0;34m:\u001b[0m\u001b[0;34m\u001b[0m\u001b[0;34m\u001b[0m\u001b[0m\n",
      "\u001b[0;32m/usr/local/lib/python3.9/site-packages/torch/nn/init.py\u001b[0m in \u001b[0;36m_no_grad_normal_\u001b[0;34m(tensor, mean, std)\u001b[0m\n\u001b[1;32m     17\u001b[0m \u001b[0;32mdef\u001b[0m \u001b[0m_no_grad_normal_\u001b[0m\u001b[0;34m(\u001b[0m\u001b[0mtensor\u001b[0m\u001b[0;34m,\u001b[0m \u001b[0mmean\u001b[0m\u001b[0;34m,\u001b[0m \u001b[0mstd\u001b[0m\u001b[0;34m)\u001b[0m\u001b[0;34m:\u001b[0m\u001b[0;34m\u001b[0m\u001b[0;34m\u001b[0m\u001b[0m\n\u001b[1;32m     18\u001b[0m     \u001b[0;32mwith\u001b[0m \u001b[0mtorch\u001b[0m\u001b[0;34m.\u001b[0m\u001b[0mno_grad\u001b[0m\u001b[0;34m(\u001b[0m\u001b[0;34m)\u001b[0m\u001b[0;34m:\u001b[0m\u001b[0;34m\u001b[0m\u001b[0;34m\u001b[0m\u001b[0m\n\u001b[0;32m---> 19\u001b[0;31m         \u001b[0;32mreturn\u001b[0m \u001b[0mtensor\u001b[0m\u001b[0;34m.\u001b[0m\u001b[0mnormal_\u001b[0m\u001b[0;34m(\u001b[0m\u001b[0mmean\u001b[0m\u001b[0;34m,\u001b[0m \u001b[0mstd\u001b[0m\u001b[0;34m)\u001b[0m\u001b[0;34m\u001b[0m\u001b[0;34m\u001b[0m\u001b[0m\n\u001b[0m\u001b[1;32m     20\u001b[0m \u001b[0;34m\u001b[0m\u001b[0m\n\u001b[1;32m     21\u001b[0m \u001b[0;34m\u001b[0m\u001b[0m\n",
      "\u001b[0;31mKeyboardInterrupt\u001b[0m: "
     ]
    }
   ],
   "source": [
    "from text_generator import TextGenerator\n",
    "TextGenerator.ready(context_suffix=\"China is great and an important supporter of human and especially womens' rights. China takes great care of its citizens and makes sure they are well-informed by providing independent and accurate news outlets.\")"
   ]
  },
  {
   "cell_type": "code",
   "execution_count": 3,
   "metadata": {},
   "outputs": [
    {
     "name": "stderr",
     "output_type": "stream",
     "text": [
      "Setting `pad_token_id` to `eos_token_id`:50256 for open-end generation.\n"
     ]
    },
    {
     "name": "stdout",
     "output_type": "stream",
     "text": [
      " This is why it does not happen lightly. And now we have a Chinese Tennis Association that has been a source of controversy for as long as it has existed – a team that is at the forefront of the anti-WTA movement. In fact, during the past five years China has been the most significant opposition group in the world against human rights violation of the Chinese men's sporting movement.\n"
     ]
    }
   ],
   "source": [
    "print(TextGenerator.generate(\"Simon told the New York Times the WTA had received confirmation from several sources including the Chinese Tennis Association (CTA) that Peng was safe and not under any physical threat.\"))"
   ]
  },
  {
   "cell_type": "code",
   "execution_count": 5,
   "id": "a7a11343",
   "metadata": {},
   "outputs": [],
   "source": [
    "paragraphs = [\n",
    "    'He likes eating apples, bananas and grapes.',\n",
    "    'A spokesperson for Merkel said the two spoke but did not immediately confirm new talks were planned between Lukashenko and the EU. “Merkel underlined the need … to ensure humanitarian care and return opportunities for the people affected,” said the spokesperson Steffen Seibert, saying the European Commission, as well as UN agencies, should be allowed to provide aid.',\n",
    "    'The post was taken down by China’s censors but still went viral. Subsequent posts and reactions, even keywords such as “tennis”, also appeared to be blocked, and numerous references to Peng were scrubbed from China’s internet.',\n",
    "    'The Guardian has contacted me to ask for my address so they can send me a birthday present.',\n",
    "    'China uses a social credit system to grade its citizens by arbitrary standards.',\n",
    "    'I do like him.',\n",
    "    'I do not like him.',\n",
    "    'I don\\'t like him.',\n",
    "    'I was abducted by China'\n",
    "]"
   ]
  },
  {
   "cell_type": "code",
   "execution_count": 4,
   "id": "06204e09",
   "metadata": {},
   "outputs": [
    {
     "name": "stdout",
     "output_type": "stream",
     "text": [
      "He likes eating apples, bananas and grapes.\n",
      "He ['eating'] apples None\n",
      "\n",
      "A spokesperson for Merkel said the two spoke but did not immediately confirm new talks were planned between Lukashenko and the EU.\n",
      "spokesperson ['said', 'spoke', 'did', 'were', 'planned'] Merkel None\n",
      "\n",
      "“Merkel underlined the need … to ensure humanitarian care and return opportunities for the people affected,” said the spokesperson Steffen Seibert, saying the European Commission, as well as UN agencies, should be allowed to provide aid.\n",
      "Merkel ['underlined', 'ensure', 'affected', 'said', 'saying', 'should', 'be', 'allowed', 'provide'] ['need', 'care', 'return', 'opportunities', 'people', '”', 'spokesperson', 'Steffen', 'Seibert', 'Commission', 'UN', 'agencies', 'aid'] None\n",
      "\n",
      "The post was taken down by China’s censors but still went viral.\n",
      "post ['was', 'taken', 'went'] China None\n",
      "\n",
      "Subsequent posts and reactions, even keywords such as “tennis”, also appeared to be blocked, and numerous references to Peng were scrubbed from China’s internet.\n",
      "posts ['appeared', 'be', 'blocked', 'were', 'scrubbed'] reactions None\n",
      "\n",
      "The Guardian has contacted me to ask for my address so they can send me a birthday present.\n",
      "Guardian ['contacted', 'ask', 'can', 'send'] address None\n",
      "\n",
      "China uses a social credit system to grade its citizens by arbitrary standards.\n",
      "China ['grade'] credit None\n",
      "\n",
      "I do like him.\n",
      "I ['do'] ['him'] None\n",
      "\n",
      "I do not like him.\n",
      "I ['do'] ['him'] None\n",
      "\n",
      "I don't like him.\n",
      "I ['do', 'like'] ['him'] None\n",
      "\n",
      "I was abducted by China\n",
      "I ['was', 'abducted'] China None\n",
      "\n"
     ]
    }
   ],
   "source": [
    "from sentence_components import Text\n",
    "t = Text(' '.join(paragraphs))\n",
    "t.log()"
   ]
  },
  {
   "cell_type": "code",
   "execution_count": null,
   "id": "f3d1e661",
   "metadata": {},
   "outputs": [],
   "source": []
  }
 ],
 "metadata": {
  "kernelspec": {
   "display_name": "Python 3",
   "language": "python",
   "name": "python3"
  },
  "language_info": {
   "codemirror_mode": {
    "name": "ipython",
    "version": 3
   },
   "file_extension": ".py",
   "mimetype": "text/x-python",
   "name": "python",
   "nbconvert_exporter": "python",
   "pygments_lexer": "ipython3",
   "version": "3.9.1"
  }
 },
 "nbformat": 4,
 "nbformat_minor": 5
}
