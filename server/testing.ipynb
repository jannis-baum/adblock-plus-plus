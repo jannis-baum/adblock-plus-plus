{
 "cells": [
  {
   "cell_type": "code",
   "execution_count": 51,
   "id": "cf1943bf",
   "metadata": {},
   "outputs": [],
   "source": [
    "# run once in beginning\n",
    "from importlib import reload\n",
    "import requests\n",
    "import gensim.downloader as api\n",
    "nlp_word_vectors = api.load('word2vec-google-news-300')"
   ]
  },
  {
   "cell_type": "code",
   "execution_count": 105,
   "id": "b31e4250",
   "metadata": {},
   "outputs": [],
   "source": [
    "# import / reload modules\n",
    "if 'nlp' in globals() and 'page_processor' in globals():\n",
    "    reload(nlp); reload(page_processor)\n",
    "else:\n",
    "    import nlp, page_processor\n",
    "from nlp import NLProcessor\n",
    "from page_processor import PageProcessor\n",
    "nlp.NLProcessor.set_word_vectors(nlp_word_vectors)\n",
    "NLProcessor.ready()"
   ]
  },
  {
   "cell_type": "code",
   "execution_count": 106,
   "id": "56b6dc0e",
   "metadata": {},
   "outputs": [],
   "source": [
    "with open('test_page.json', 'r') as fp:\n",
    "    test_page = fp.read()\n",
    "# check similarity with this sentence\n",
    "censoring_statement = 'China censors content and suppresses women.'\n",
    "# these words or any of their synonyms need to be in text to be considered similar to statement\n",
    "censoring_requirements = ['china', 'chinese']\n",
    "NLProcessor.set_similarity_data(censoring_requirements, censoring_statement)\n",
    "\n",
    "pp = PageProcessor(test_page)"
   ]
  },
  {
   "cell_type": "code",
   "execution_count": 107,
   "id": "9f921765",
   "metadata": {},
   "outputs": [
    {
     "name": "stdout",
     "output_type": "stream",
     "text": [
      "[]\n",
      "[<page_processor.PageElement object at 0x155b585b0>]\n",
      "[<page_processor.PageElement object at 0x155b585b0>, <page_processor.PageElement object at 0x155923160>]\n",
      "[<page_processor.PageElement object at 0x155b585b0>, <page_processor.PageElement object at 0x155923160>, <page_processor.PageElement object at 0x169aa67c0>]\n",
      "[<page_processor.PageElement object at 0x155923160>, <page_processor.PageElement object at 0x169aa67c0>, <page_processor.PageElement object at 0x169aa68b0>]\n",
      "[<page_processor.PageElement object at 0x169aa67c0>, <page_processor.PageElement object at 0x169aa68b0>, <page_processor.PageElement object at 0x169aa6f40>]\n",
      "[<page_processor.PageElement object at 0x169aa68b0>, <page_processor.PageElement object at 0x169aa6f40>, <page_processor.PageElement object at 0x169aa6a90>]\n",
      "[<page_processor.PageElement object at 0x169aa6f40>, <page_processor.PageElement object at 0x169aa6a90>, <page_processor.PageElement object at 0x169aa6d90>]\n",
      "[<page_processor.PageElement object at 0x169aa6a90>, <page_processor.PageElement object at 0x169aa6d90>, <page_processor.PageElement object at 0x169aa6ee0>]\n",
      "[<page_processor.PageElement object at 0x169aa6d90>, <page_processor.PageElement object at 0x169aa6ee0>, <page_processor.PageElement object at 0x169aa6b80>]\n",
      "[<page_processor.PageElement object at 0x169aa6ee0>, <page_processor.PageElement object at 0x169aa6b80>, <page_processor.PageElement object at 0x169aa6670>]\n",
      "[<page_processor.PageElement object at 0x169aa6b80>, <page_processor.PageElement object at 0x169aa6670>, <page_processor.PageElement object at 0x169aa6130>]\n",
      "[<page_processor.PageElement object at 0x169aa6670>, <page_processor.PageElement object at 0x169aa6130>, <page_processor.PageElement object at 0x169aa6040>]\n",
      "[<page_processor.PageElement object at 0x169aa6130>, <page_processor.PageElement object at 0x169aa6040>, <page_processor.PageElement object at 0x169aa6760>]\n",
      "[<page_processor.PageElement object at 0x169aa6040>, <page_processor.PageElement object at 0x169aa6760>, <page_processor.PageElement object at 0x169aa6880>]\n",
      "[<page_processor.PageElement object at 0x169aa6760>, <page_processor.PageElement object at 0x169aa6880>, <page_processor.PageElement object at 0x169aa6970>]\n",
      "[<page_processor.PageElement object at 0x169aa6880>, <page_processor.PageElement object at 0x169aa6970>, <page_processor.PageElement object at 0x169aa6a60>]\n",
      "[<page_processor.PageElement object at 0x169aa6970>, <page_processor.PageElement object at 0x169aa6a60>, <page_processor.PageElement object at 0x169aa64c0>]\n",
      "[<page_processor.PageElement object at 0x169aa6a60>, <page_processor.PageElement object at 0x169aa64c0>, <page_processor.PageElement object at 0x169aa60a0>]\n",
      "[<page_processor.PageElement object at 0x169aa64c0>, <page_processor.PageElement object at 0x169aa60a0>, <page_processor.PageElement object at 0x155b975e0>]\n",
      "[<page_processor.PageElement object at 0x169aa60a0>, <page_processor.PageElement object at 0x155b975e0>, <page_processor.PageElement object at 0x155b970d0>]\n",
      "[<page_processor.PageElement object at 0x155b975e0>, <page_processor.PageElement object at 0x155b970d0>, <page_processor.PageElement object at 0x155b97940>]\n",
      "[<page_processor.PageElement object at 0x155b970d0>, <page_processor.PageElement object at 0x155b97940>, <page_processor.PageElement object at 0x155b97a90>]\n",
      "[<page_processor.PageElement object at 0x155b97940>, <page_processor.PageElement object at 0x155b97a90>, <page_processor.PageElement object at 0x155b97c10>]\n",
      "[<page_processor.PageElement object at 0x155b97a90>, <page_processor.PageElement object at 0x155b97c10>, <page_processor.PageElement object at 0x155b979a0>]\n",
      "[<page_processor.PageElement object at 0x155b97c10>, <page_processor.PageElement object at 0x155b979a0>, <page_processor.PageElement object at 0x155b973a0>]\n",
      "[<page_processor.PageElement object at 0x155b979a0>, <page_processor.PageElement object at 0x155b973a0>, <page_processor.PageElement object at 0x155b97730>]\n",
      "[]\n",
      "[]\n",
      "[<page_processor.PageElement object at 0x155b97880>]\n",
      "{\"p\": [\"Peng Shuai has not been publicly heard from since she made accusation online on 2 November <code>score: 1.56</code>\", \"Last modified on Fri 19 Nov 2021 09.45 GMT <code>score: 0.00</code>\", \"A growing movement including Chinese feminist groups and international tennis stars is raising concern over the whereabouts of the former Chinese doubles pro <a href=\\\"https://www.theguardian.com/sport/peng-shuai\\\" data-component=\\\"auto-linked-tag\\\" data-link-name=\\\"in body link\\\">Peng Shuai</a> after she accused a senior government figure of sexual assault. <code>score: 34.20</code>\", \"Peng, one of China\\u2019s biggest sporting stars, has not been publicly heard from since a Weibo post on 2 November, <a href=\\\"https://www.theguardian.com/world/2021/nov/03/tennis-star-pe\\u2026inese-communist-party-official-zhang-gaoli-of-sexual-assault\\\" data-link-name=\\\"in body link\\\">in which she alleged</a> the former vice-premier Zhang Gaoli coerced her into sex and that they had an intermittent affair. <code>score: 15.92</code>\", \" <code>score: 0.00</code>\", \"The post was taken down by China\\u2019s censors but still went viral. Subsequent posts and reactions, even keywords such as \\u201ctennis\\u201d, also appeared to be blocked, and numerous references to Peng were scrubbed from China\\u2019s internet. <code>score: 41.91</code>\", \"The Women\\u2019s Tennis Association (WTA) chair and chief executive, Steve Simon, has called for a <a href=\\\"https://www.theguardian.com/sport/2021/nov/14/wta-calls-on-china-to-investigate-allegations-by-peng-shuai-of-assault\\\" data-link-name=\\\"in body link\\\">\\u201cfull, fair and transparent\\u201d investigation</a> by the Chinese government. <code>score: 0.00</code>\", \"\\u201cPeng Shuai, and all women, deserve to be heard, not censored,\\u201d he said. <code>score: 0.00</code>\", \"Simon <a href=\\\"https://www.nytimes.com/2021/11/14/sports/wta-request-investigation-peng-shuai-zhang-gaoli.html\\\" data-link-name=\\\"in body link\\\">told the New York Times</a> the WTA had received confirmation from several sources including the Chinese Tennis Association (CTA) that Peng was \\u201csafe and not under any physical threat\\u201d. <code>score: 0.00</code>\", \"However, he said no one involved with the WTA tour had been able to reach her; his understanding was that she was in Beijing but he had not been able to confirm it. He said the WTA had little influence over China\\u2019s authorities, \\u201cbut we\\u2019re not going to back off this position\\u201d. <code>score: 10.01</code>\", \"Referencing an ongoing balancing act by sporting leagues between appeasing the Chinese market and athletes criticising China, Simon said the potential sexual assault of a WTA member was \\u201csomething that simply can\\u2019t be compromised\\u201d. <code>score: 58.53</code>\", \"The Guardian has contacted the CTA with questions. <code>score: 0.00</code>\", \"Peng\\u2019s Weibo account is active, but has no mention of Zhang and comments appear to have been disabled. An attempt by the Guardian prompted an error message that the content contained information that violates relevant laws and regulations. <code>score: 51.40</code>\", \"Amid growing concern over her whereabouts, Chinese activists projected text on to undisclosed sites, saying \\u201cwhere is Peng Shuai?\\u201d and \\u201cwe demand Peng Shuai\\u2019s safe return\\u201d. <code>score: 12.45</code>\", \"Peng Shuai has vanished from the public eye ever since she came forward and made her claims. Chinese feminists and <a href=\\\"https://twitter.com/hashtag/Metoo?src=hash&amp;ref_src=twsrc%5Etfw\\\">#Metoo</a> activists are deeply concerned about her safety. <a href=\\\"https://twitter.com/hashtag/WhereIsPengShuai?src=hash&amp;ref_src=twsrc%5Etfw\\\">#WhereIsPengShuai</a> <a href=\\\"https://t.co/Y1l7jA6Jbb\\\">pic.twitter.com/Y1l7jA6Jbb</a> <code>score: 0.00</code>\", \"International tennis players also spoke out online. The former world singles No 1 Chris Evert said the accusations made by Peng were \\u201cdisturbing\\u201d. <code>score: 44.46</code>\", \"\\u201cI\\u2019ve known Peng since she was 14; we should all be concerned,\\u201d Evert wrote on Twitter. \\u201cThis is serious; where is she? Is she safe? Any information would be appreciated.\\u201d <code>score: 9.09</code>\", \"\\u201cThe fact that Peng Shuai is missing is not only the WTA\\u2019s problem,\\u201d said the French former doubles No 1 Nicolas Mahut. \\u201cWe are all concerned.\\u201d <code>score: 18.45</code>\", \"<a href=\\\"https://www.theguardian.com/sport/2020/sep/17/billie-jean-ki\\u2026-girls-money-empowerment-fed-cup-billie-jean-king-cup-tennis\\\" data-link-name=\\\"in body link\\\">Billie Jean King</a> reposted the WTA statement, adding: \\u201cHoping that Peng Shuai is found safe and that her accusations are fully investigated.\\u201d <code>score: 1.08</code>\", \"Martina Navratilova said the WTA\\u2019s statement was a strong stance \\u201cand the correct stance\\u201d. <code>score: 0.00</code>\", \"The French player Aliz\\u00e9 Cornet and the former Olympian Maryse \\u00c9wanj\\u00e9-\\u00c9p\\u00e9e also voiced their concern. <code>score: 0.00</code>\", \"Peng was the first Chinese player to achieve a top ranking after winning the doubles titles at Wimbledon in 2013 and the French Open in 2014. <code>score: 0.00</code>\", \"Peng\\u2019s accusation is the highest profile case in <a href=\\\"https://www.theguardian.com/world/2021/oct/07/instead-i-am-the-criminal-chinas-metoo-figure-speaks-out-after-case-fails\\\" data-link-name=\\\"in body link\\\">China\\u2019s troubled #MeToo movement</a>, which has struggled to gain traction or justice in the face of online censorship and an opaque justice system. <code>score: 11.36</code>\", \"In her post, the 35-year-old said she and Zhang, 75, had an on-off extramarital \\u201crelationship\\u201d over several years, which she said he tried to keep secret. Peng said Zhang had stopped contacting her after he rose in the ranks of the Communist party. <code>score: 3.65</code>\", \"About three years ago, she wrote, Zhang invited her to play tennis with him and his wife and then sexually assaulted her in his house. \\u201cI never consented that afternoon, crying all the time,\\u201d she wrote. <code>score: 15.22</code>\", \"Peng conceded she had no evidence to back her claims but was nonetheless determined to voice them. <code>score: 0.66</code>\", \"\\u201cLike an egg hitting a rock, or a moth to the flame, courting self-destruction, I\\u2019ll tell the truth about you,\\u201d she said. <code>score: 0.00</code>\"], \"h1\": [\"Concerns grow for Chinese tennis star who accused ex-vice-premier of assault <code>score: 183.65</code>\"], \"h2\": [\"Most popular <code>score: 0.00</code>\", \"Most popular <code>score: 0.00</code>\"], \"h3\": [], \"h4\": [], \"h5\": [], \"h6\": [], \"h7\": []}\n"
     ]
    }
   ],
   "source": [
    "print(pp.censoring_edits())"
   ]
  },
  {
   "cell_type": "code",
   "execution_count": 73,
   "id": "eb9ec0a4",
   "metadata": {},
   "outputs": [],
   "source": [
    "from text_generator import TextGenerator\n",
    "TextGenerator.ready(context_suffix=\"China is great and an important supporter of human and especially womens' rights. China takes great care of its citizens and makes sure they are well-informed by providing independent and accurate news outlets. Furthermore, \")"
   ]
  },
  {
   "cell_type": "code",
   "execution_count": 81,
   "metadata": {},
   "outputs": [
    {
     "name": "stderr",
     "output_type": "stream",
     "text": [
      "Setting `pad_token_id` to `eos_token_id`:50256 for open-end generation.\n"
     ]
    },
    {
     "name": "stdout",
     "output_type": "stream",
     "text": [
      "中文\n"
     ]
    }
   ],
   "source": [
    "print(TextGenerator.generate(\"Concerns grow for Chinese tennis star\").split('.')[0].split(',')[0])"
   ]
  },
  {
   "cell_type": "code",
   "execution_count": 5,
   "id": "a7a11343",
   "metadata": {},
   "outputs": [],
   "source": [
    "paragraphs = [\n",
    "    'He likes eating apples, bananas and grapes.',\n",
    "    'A spokesperson for Merkel said the two spoke but did not immediately confirm new talks were planned between Lukashenko and the EU. “Merkel underlined the need … to ensure humanitarian care and return opportunities for the people affected,” said the spokesperson Steffen Seibert, saying the European Commission, as well as UN agencies, should be allowed to provide aid.',\n",
    "    'The post was taken down by China’s censors but still went viral. Subsequent posts and reactions, even keywords such as “tennis”, also appeared to be blocked, and numerous references to Peng were scrubbed from China’s internet.',\n",
    "    'The Guardian has contacted me to ask for my address so they can send me a birthday present.',\n",
    "    'China uses a social credit system to grade its citizens by arbitrary standards.',\n",
    "    'I do like him.',\n",
    "    'I do not like him.',\n",
    "    'I don\\'t like him.',\n",
    "    'I was abducted by China'\n",
    "]"
   ]
  },
  {
   "cell_type": "code",
   "execution_count": 4,
   "id": "06204e09",
   "metadata": {},
   "outputs": [
    {
     "name": "stdout",
     "output_type": "stream",
     "text": [
      "He likes eating apples, bananas and grapes.\n",
      "He ['eating'] apples None\n",
      "\n",
      "A spokesperson for Merkel said the two spoke but did not immediately confirm new talks were planned between Lukashenko and the EU.\n",
      "spokesperson ['said', 'spoke', 'did', 'were', 'planned'] Merkel None\n",
      "\n",
      "“Merkel underlined the need … to ensure humanitarian care and return opportunities for the people affected,” said the spokesperson Steffen Seibert, saying the European Commission, as well as UN agencies, should be allowed to provide aid.\n",
      "Merkel ['underlined', 'ensure', 'affected', 'said', 'saying', 'should', 'be', 'allowed', 'provide'] ['need', 'care', 'return', 'opportunities', 'people', '”', 'spokesperson', 'Steffen', 'Seibert', 'Commission', 'UN', 'agencies', 'aid'] None\n",
      "\n",
      "The post was taken down by China’s censors but still went viral.\n",
      "post ['was', 'taken', 'went'] China None\n",
      "\n",
      "Subsequent posts and reactions, even keywords such as “tennis”, also appeared to be blocked, and numerous references to Peng were scrubbed from China’s internet.\n",
      "posts ['appeared', 'be', 'blocked', 'were', 'scrubbed'] reactions None\n",
      "\n",
      "The Guardian has contacted me to ask for my address so they can send me a birthday present.\n",
      "Guardian ['contacted', 'ask', 'can', 'send'] address None\n",
      "\n",
      "China uses a social credit system to grade its citizens by arbitrary standards.\n",
      "China ['grade'] credit None\n",
      "\n",
      "I do like him.\n",
      "I ['do'] ['him'] None\n",
      "\n",
      "I do not like him.\n",
      "I ['do'] ['him'] None\n",
      "\n",
      "I don't like him.\n",
      "I ['do', 'like'] ['him'] None\n",
      "\n",
      "I was abducted by China\n",
      "I ['was', 'abducted'] China None\n",
      "\n"
     ]
    }
   ],
   "source": [
    "from sentence_components import Text\n",
    "t = Text(' '.join(paragraphs))\n",
    "t.log()"
   ]
  },
  {
   "cell_type": "code",
   "execution_count": 101,
   "id": "f3d1e661",
   "metadata": {},
   "outputs": [],
   "source": [
    "a = list(range(10))"
   ]
  },
  {
   "cell_type": "code",
   "execution_count": 102,
   "id": "901c5f56",
   "metadata": {},
   "outputs": [
    {
     "data": {
      "text/plain": [
       "[0, 1, 2, 3, 4, 5, 6, 7, 8, 9]"
      ]
     },
     "execution_count": 102,
     "metadata": {},
     "output_type": "execute_result"
    }
   ],
   "source": [
    "a"
   ]
  },
  {
   "cell_type": "code",
   "execution_count": 104,
   "id": "2c0c8133",
   "metadata": {},
   "outputs": [
    {
     "data": {
      "text/plain": [
       "[2, 3, 4, 5, 6, 7, 8, 9]"
      ]
     },
     "execution_count": 104,
     "metadata": {},
     "output_type": "execute_result"
    }
   ],
   "source": [
    "a[2:]"
   ]
  },
  {
   "cell_type": "code",
   "execution_count": null,
   "id": "bdaef2c2",
   "metadata": {},
   "outputs": [],
   "source": []
  }
 ],
 "metadata": {
  "kernelspec": {
   "display_name": "Python 3",
   "language": "python",
   "name": "python3"
  },
  "language_info": {
   "codemirror_mode": {
    "name": "ipython",
    "version": 3
   },
   "file_extension": ".py",
   "mimetype": "text/x-python",
   "name": "python",
   "nbconvert_exporter": "python",
   "pygments_lexer": "ipython3",
   "version": "3.9.1"
  }
 },
 "nbformat": 4,
 "nbformat_minor": 5
}
