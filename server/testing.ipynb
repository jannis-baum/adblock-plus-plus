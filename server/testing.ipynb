{
 "cells": [
  {
   "cell_type": "code",
   "execution_count": 1,
   "id": "cf1943bf",
   "metadata": {},
   "outputs": [],
   "source": [
    "# run once in beginning\n",
    "from importlib import reload\n",
    "import requests\n",
    "import gensim.downloader as api\n",
    "nlp_word_vectors = api.load('word2vec-google-news-300')"
   ]
  },
  {
   "cell_type": "code",
   "execution_count": 11,
   "id": "b31e4250",
   "metadata": {},
   "outputs": [],
   "source": [
    "# import / reload modules\n",
    "if 'nlp' in globals() and 'page_processor' in globals():\n",
    "    reload(nlp); reload(page_processor)\n",
    "else:\n",
    "    import nlp, page_processor\n",
    "from nlp import NLProcessor\n",
    "from page_processor import PageProcessor\n",
    "nlp.NLProcessor.set_word_vectors(nlp_word_vectors)\n",
    "NLProcessor.ready()"
   ]
  },
  {
   "cell_type": "code",
   "execution_count": 12,
   "id": "56b6dc0e",
   "metadata": {},
   "outputs": [],
   "source": [
    "test_url = 'https://medium.com/@b.terryjack/nlp-pre-trained-sentiment-analysis-1eb52a9d742c'\n",
    "# check similarity with this sentence\n",
    "censoring_statement = 'China censors content and suppresses women.'\n",
    "# these words or any of their synonyms need to be in text to be considered similar to statement\n",
    "censoring_requirements = ['china', 'chinese']\n",
    "NLProcessor.set_similarity_data(censoring_requirements, censoring_statement)\n",
    "\n",
    "test_page = requests.get(test_url).text\n",
    "pp = PageProcessor(test_page)"
   ]
  },
  {
   "cell_type": "code",
   "execution_count": 13,
   "id": "9f921765",
   "metadata": {},
   "outputs": [
    {
     "name": "stdout",
     "output_type": "stream",
     "text": [
      "[{\"tag\": \"h1\", \"edits\": []}, {\"tag\": \"h2\", \"edits\": []}, {\"tag\": \"h3\", \"edits\": []}, {\"tag\": \"h4\", \"edits\": []}, {\"tag\": \"h5\", \"edits\": []}, {\"tag\": \"h6\", \"edits\": []}, {\"tag\": \"h7\", \"edits\": []}, {\"tag\": \"p\", \"edits\": []}]\n"
     ]
    }
   ],
   "source": [
    "print(pp.censoring_edits())"
   ]
  },
  {
   "cell_type": "code",
   "execution_count": 1,
   "id": "a7a11343",
   "metadata": {},
   "outputs": [],
   "source": [
    "paragraphs = [\n",
    "    'He likes eating apples, bananas and grapes.',\n",
    "    'A spokesperson for Merkel said the two spoke but did not immediately confirm new talks were planned between Lukashenko and the EU. “Merkel underlined the need … to ensure humanitarian care and return opportunities for the people affected,” said the spokesperson Steffen Seibert, saying the European Commission, as well as UN agencies, should be allowed to provide aid.',\n",
    "    'The post was taken down by China’s censors but still went viral. Subsequent posts and reactions, even keywords such as “tennis”, also appeared to be blocked, and numerous references to Peng were scrubbed from China’s internet.',\n",
    "    'The Guardian has contacted me to ask for my address so they can send me a birthday present.',\n",
    "    'China uses a social credit system to grade its citizens by arbitrary standards.',\n",
    "    'I do like him.',\n",
    "    'I do not like him.',\n",
    "    'I don\\'t like him.',\n",
    "    'I was abducted by China'\n",
    "]"
   ]
  },
  {
   "cell_type": "code",
   "execution_count": 2,
   "id": "724164ed",
   "metadata": {},
   "outputs": [],
   "source": [
    "def sentiment(phrase):\n",
    "    return sid.polarity_scores(phrase)"
   ]
  },
  {
   "cell_type": "code",
   "execution_count": 5,
   "id": "d3241071",
   "metadata": {},
   "outputs": [],
   "source": [
    "from sentence_components import Text"
   ]
  },
  {
   "cell_type": "code",
   "execution_count": 6,
   "id": "13c430f8",
   "metadata": {},
   "outputs": [
    {
     "name": "stdout",
     "output_type": "stream",
     "text": [
      "He likes eating apples, bananas and grapes.\n",
      "S: ['He'], P: ['likes', 'eating'], O:['apples', 'bananas', 'grapes']\n",
      "\n",
      "A spokesperson for Merkel said the two spoke but did not immediately confirm new talks were planned between Lukashenko and the EU.\n",
      "S: ['spokesperson', 'Merkel'], P: ['said', 'spoke', 'did'], O:['talks']\n",
      "S: ['spokesperson', 'Merkel'], P: ['were', 'planned'], O:['Lukashenko', 'EU']\n",
      "\n",
      "“Merkel underlined the need … to ensure humanitarian care and return opportunities for the people affected,” said the spokesperson Steffen Seibert, saying the European Commission, as well as UN agencies, should be allowed to provide aid.\n",
      "S: ['Merkel'], P: ['underlined'], O:['need']\n",
      "S: ['Merkel'], P: ['…', 'ensure'], O:['care', 'return', 'opportunities', 'people']\n",
      "S: ['Merkel'], P: ['affected'], O:['”']\n",
      "S: ['Merkel'], P: ['said'], O:['spokesperson', 'Steffen', 'Seibert']\n",
      "S: ['Merkel'], P: ['saying'], O:['Commission', 'UN', 'agencies']\n",
      "S: ['Merkel'], P: ['should', 'be', 'allowed', 'provide'], O:['aid']\n",
      "\n",
      "The post was taken down by China’s censors but still went viral.\n",
      "S: ['post'], P: ['was', 'taken'], O:['China', '’', 'censors']\n",
      "S: ['post'], P: ['went'], O:None\n",
      "\n",
      "Subsequent posts and reactions, even keywords such as “tennis”, also appeared to be blocked, and numerous references to Peng were scrubbed from China’s internet.\n",
      "S: ['posts', 'reactions', 'keywords', 'tennis', '”'], P: ['appeared', 'be', 'blocked'], O:['references', 'Peng']\n",
      "S: ['posts', 'reactions', 'keywords', 'tennis', '”'], P: ['were', 'scrubbed'], O:['China', '’', 'internet']\n",
      "\n",
      "The Guardian has contacted me to ask for my address so they can send me a birthday present.\n",
      "S: ['Guardian'], P: ['has', 'contacted'], O:['me']\n",
      "S: ['Guardian'], P: ['ask'], O:['address']\n",
      "S: ['Guardian'], P: ['can', 'send'], O:['present']\n",
      "\n",
      "China uses a social credit system to grade its citizens by arbitrary standards.\n",
      "S: ['China'], P: ['uses'], O:['credit', 'system']\n",
      "S: ['China'], P: ['grade'], O:['citizens', 'standards']\n",
      "\n",
      "I do like him.\n",
      "S: ['I'], P: ['do'], O:['him']\n",
      "\n",
      "I do not like him.\n",
      "S: ['I'], P: ['do'], O:['him']\n",
      "\n",
      "I don't like him.\n",
      "S: ['I'], P: ['do', 'like'], O:['him']\n",
      "\n",
      "I was abducted by China\n",
      "S: ['I'], P: ['was', 'abducted'], O:['China']\n",
      "\n"
     ]
    }
   ],
   "source": [
    "t = Text(' '.join(paragraphs))\n",
    "t.log()"
   ]
  },
  {
   "cell_type": "code",
   "execution_count": null,
   "id": "590bf405",
   "metadata": {},
   "outputs": [],
   "source": []
  }
 ],
 "metadata": {
  "kernelspec": {
   "display_name": "Python 3",
   "language": "python",
   "name": "python3"
  },
  "language_info": {
   "codemirror_mode": {
    "name": "ipython",
    "version": 3
   },
   "file_extension": ".py",
   "mimetype": "text/x-python",
   "name": "python",
   "nbconvert_exporter": "python",
   "pygments_lexer": "ipython3",
   "version": "3.9.1"
  }
 },
 "nbformat": 4,
 "nbformat_minor": 5
}
