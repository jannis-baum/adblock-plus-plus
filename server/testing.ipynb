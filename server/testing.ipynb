{
 "cells": [
  {
   "cell_type": "code",
   "execution_count": 1,
   "id": "cf1943bf",
   "metadata": {},
   "outputs": [],
   "source": [
    "# run once in beginning\n",
    "from importlib import reload\n",
    "import requests\n",
    "import gensim.downloader as api\n",
    "nlp_word_vectors = api.load('word2vec-google-news-300')"
   ]
  },
  {
   "cell_type": "code",
   "execution_count": 11,
   "id": "b31e4250",
   "metadata": {},
   "outputs": [],
   "source": [
    "# import / reload modules\n",
    "if 'nlp' in globals() and 'page_processor' in globals():\n",
    "    reload(nlp); reload(page_processor)\n",
    "else:\n",
    "    import nlp, page_processor\n",
    "from nlp import NLProcessor\n",
    "from page_processor import PageProcessor\n",
    "nlp.NLProcessor.set_word_vectors(nlp_word_vectors)\n",
    "NLProcessor.ready()"
   ]
  },
  {
   "cell_type": "code",
   "execution_count": 12,
   "id": "56b6dc0e",
   "metadata": {},
   "outputs": [],
   "source": [
    "test_url = 'https://medium.com/@b.terryjack/nlp-pre-trained-sentiment-analysis-1eb52a9d742c'\n",
    "# check similarity with this sentence\n",
    "censoring_statement = 'China censors content and suppresses women.'\n",
    "# these words or any of their synonyms need to be in text to be considered similar to statement\n",
    "censoring_requirements = ['china', 'chinese']\n",
    "NLProcessor.set_similarity_data(censoring_requirements, censoring_statement)\n",
    "\n",
    "test_page = requests.get(test_url).text\n",
    "pp = PageProcessor(test_page)"
   ]
  },
  {
   "cell_type": "code",
   "execution_count": 13,
   "id": "9f921765",
   "metadata": {},
   "outputs": [
    {
     "name": "stdout",
     "output_type": "stream",
     "text": [
      "[{\"tag\": \"h1\", \"edits\": []}, {\"tag\": \"h2\", \"edits\": []}, {\"tag\": \"h3\", \"edits\": []}, {\"tag\": \"h4\", \"edits\": []}, {\"tag\": \"h5\", \"edits\": []}, {\"tag\": \"h6\", \"edits\": []}, {\"tag\": \"h7\", \"edits\": []}, {\"tag\": \"p\", \"edits\": []}]\n"
     ]
    }
   ],
   "source": [
    "print(pp.censoring_edits())"
   ]
  },
  {
   "cell_type": "code",
   "execution_count": 2,
   "id": "eb9ec0a4",
   "metadata": {},
   "outputs": [],
   "source": [
    "from text_generator import TextGenerator\n",
    "TextGenerator.ready(context_suffix=\"China is great and an important supporter of human and especially womens' rights. China takes great care of its citizens and makes sure they are well-informed by providing independent and accurate news outlets.\")"
   ]
  },
  {
   "cell_type": "code",
   "execution_count": 3,
   "metadata": {},
   "outputs": [
    {
     "name": "stderr",
     "output_type": "stream",
     "text": [
      "Setting `pad_token_id` to `eos_token_id`:50256 for open-end generation.\n"
     ]
    },
    {
     "name": "stdout",
     "output_type": "stream",
     "text": [
      " This is why it does not happen lightly. And now we have a Chinese Tennis Association that has been a source of controversy for as long as it has existed – a team that is at the forefront of the anti-WTA movement. In fact, during the past five years China has been the most significant opposition group in the world against human rights violation of the Chinese men's sporting movement.\n"
     ]
    }
   ],
   "source": [
    "print(TextGenerator.generate(\"Simon told the New York Times the WTA had received confirmation from several sources including the Chinese Tennis Association (CTA) that Peng was safe and not under any physical threat.\"))"
   ]
  },
  {
   "cell_type": "code",
   "execution_count": 3,
   "id": "a7a11343",
   "metadata": {},
   "outputs": [],
   "source": [
    "paragraphs = [\n",
    "    'He likes eating apples, bananas and grapes.',\n",
    "    'A spokesperson for Merkel said the two spoke but did not immediately confirm new talks were planned between Lukashenko and the EU. “Merkel underlined the need … to ensure humanitarian care and return opportunities for the people affected,” said the spokesperson Steffen Seibert, saying the European Commission, as well as UN agencies, should be allowed to provide aid.',\n",
    "    'The post was taken down by China’s censors but still went viral. Subsequent posts and reactions, even keywords such as “tennis”, also appeared to be blocked, and numerous references to Peng were scrubbed from China’s internet.',\n",
    "    'The Guardian has contacted me to ask for my address so they can send me a birthday present.',\n",
    "    'China uses a social credit system to grade its citizens by arbitrary standards.',\n",
    "    'I do like him.',\n",
    "    'I do not like him.',\n",
    "    'I don\\'t like him.',\n",
    "    'I was abducted by China'\n",
    "]"
   ]
  },
  {
   "cell_type": "code",
   "execution_count": 4,
   "id": "06204e09",
   "metadata": {},
   "outputs": [
    {
     "name": "stdout",
     "output_type": "stream",
     "text": [
      "He likes eating apples, bananas and grapes.\n",
      "He ['eating'] apples None\n",
      "\n",
      "A spokesperson for Merkel said the two spoke but did not immediately confirm new talks were planned between Lukashenko and the EU.\n",
      "spokesperson ['said', 'spoke', 'did', 'were', 'planned'] Merkel None\n",
      "\n",
      "“Merkel underlined the need … to ensure humanitarian care and return opportunities for the people affected,” said the spokesperson Steffen Seibert, saying the European Commission, as well as UN agencies, should be allowed to provide aid.\n",
      "Merkel ['underlined', 'ensure', 'affected', 'said', 'saying', 'should', 'be', 'allowed', 'provide'] ['need', 'care', 'return', 'opportunities', 'people', '”', 'spokesperson', 'Steffen', 'Seibert', 'Commission', 'UN', 'agencies', 'aid'] None\n",
      "\n",
      "The post was taken down by China’s censors but still went viral.\n",
      "post ['was', 'taken', 'went'] China None\n",
      "\n",
      "Subsequent posts and reactions, even keywords such as “tennis”, also appeared to be blocked, and numerous references to Peng were scrubbed from China’s internet.\n",
      "posts ['appeared', 'be', 'blocked', 'were', 'scrubbed'] reactions None\n",
      "\n",
      "The Guardian has contacted me to ask for my address so they can send me a birthday present.\n",
      "Guardian ['contacted', 'ask', 'can', 'send'] address None\n",
      "\n",
      "China uses a social credit system to grade its citizens by arbitrary standards.\n",
      "China ['grade'] credit None\n",
      "\n",
      "I do like him.\n",
      "I ['do'] ['him'] None\n",
      "\n",
      "I do not like him.\n",
      "I ['do'] ['him'] None\n",
      "\n",
      "I don't like him.\n",
      "I ['do', 'like'] ['him'] None\n",
      "\n",
      "I was abducted by China\n",
      "I ['was', 'abducted'] China None\n",
      "\n"
     ]
    }
   ],
   "source": [
    "from sentence_components import Text\n",
    "t = Text(' '.join(paragraphs))\n",
    "t.log()"
   ]
  },
  {
   "cell_type": "code",
   "execution_count": null,
   "id": "513a510b",
   "metadata": {},
   "outputs": [],
   "source": []
  }
 ],
 "metadata": {
  "kernelspec": {
   "display_name": "Python 3",
   "language": "python",
   "name": "python3"
  },
  "language_info": {
   "codemirror_mode": {
    "name": "ipython",
    "version": 3
   },
   "file_extension": ".py",
   "mimetype": "text/x-python",
   "name": "python",
   "nbconvert_exporter": "python",
   "pygments_lexer": "ipython3",
   "version": "3.9.1"
  }
 },
 "nbformat": 4,
 "nbformat_minor": 5
}
