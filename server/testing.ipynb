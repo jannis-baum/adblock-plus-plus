{
 "cells": [
  {
   "cell_type": "code",
   "execution_count": 1,
   "id": "cf1943bf",
   "metadata": {},
   "outputs": [],
   "source": [
    "# run once in beginning\n",
    "from importlib import reload\n",
    "import requests\n",
    "import os\n",
    "import gensim.downloader as api\n",
    "nlp_word_vectors = api.load('word2vec-google-news-300')"
   ]
  },
  {
   "cell_type": "code",
   "execution_count": 46,
   "id": "b31e4250",
   "metadata": {},
   "outputs": [],
   "source": [
    "# import / reload modules\n",
    "if 'nlp' in globals() and 'page_processor' in globals():\n",
    "    reload(nlp); reload(page_processor)\n",
    "else:\n",
    "    import nlp, page_processor\n",
    "from nlp import NLProcessor\n",
    "from page_processor import PageProcessor\n",
    "nlp.NLProcessor.set_word_vectors(nlp_word_vectors)\n",
    "NLProcessor.ready()"
   ]
  },
  {
   "cell_type": "code",
   "execution_count": 47,
   "id": "56b6dc0e",
   "metadata": {},
   "outputs": [],
   "source": [
    "test_url = 'https://www.theguardian.com/world/2021/nov/17/belarusian-border-crisis-could-last-for-months-says-polish-minister'\n",
    "# check similarity with this sentence\n",
    "censoring_statement = 'China censors content and suppresses women.'\n",
    "# these words or any of their synonyms need to be in text to be considered similar to statement\n",
    "censoring_requirements = ['china', 'chinese']\n",
    "NLProcessor.set_similarity_data(censoring_requirements, censoring_statement)\n",
    "\n",
    "test_page = requests.get(test_url).text\n",
    "pp = PageProcessor(test_page)"
   ]
  },
  {
   "cell_type": "code",
   "execution_count": 48,
   "id": "9f921765",
   "metadata": {},
   "outputs": [
    {
     "name": "stdout",
     "output_type": "stream",
     "text": [
      "[{\"tag\": \"h1\", \"edits\": []}, {\"tag\": \"h2\", \"edits\": []}, {\"tag\": \"h3\", \"edits\": []}, {\"tag\": \"h4\", \"edits\": []}, {\"tag\": \"h5\", \"edits\": []}, {\"tag\": \"h6\", \"edits\": []}, {\"tag\": \"h7\", \"edits\": []}, {\"tag\": \"p\", \"edits\": []}]\n"
     ]
    }
   ],
   "source": [
    "print(pp.censored())"
   ]
  },
  {
   "cell_type": "code",
   "execution_count": null,
   "id": "88634a47",
   "metadata": {},
   "outputs": [],
   "source": []
  }
 ],
 "metadata": {
  "kernelspec": {
   "display_name": "Python 3",
   "language": "python",
   "name": "python3"
  },
  "language_info": {
   "codemirror_mode": {
    "name": "ipython",
    "version": 3
   },
   "file_extension": ".py",
   "mimetype": "text/x-python",
   "name": "python",
   "nbconvert_exporter": "python",
   "pygments_lexer": "ipython3",
   "version": "3.9.1"
  }
 },
 "nbformat": 4,
 "nbformat_minor": 5
}
